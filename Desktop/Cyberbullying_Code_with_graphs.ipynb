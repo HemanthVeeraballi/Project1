{
 "cells": [
  {
   "cell_type": "code",
   "execution_count": 1,
   "metadata": {
    "id": "wAClNxeWBP5z"
   },
   "outputs": [],
   "source": [
    "import numpy as np\n",
    "import pandas as pd\n",
    "import matplotlib.pyplot as plt\n",
    "\n",
    "from sklearn.feature_extraction.text import TfidfTransformer, CountVectorizer, TfidfVectorizer\n",
    "from sklearn.metrics import confusion_matrix\n",
    "from sklearn.model_selection import train_test_split\n",
    "\n",
    "from nltk.stem.porter import PorterStemmer\n",
    "import nltk\n",
    "import re, string\n",
    "from nltk.corpus import stopwords\n",
    "\n",
    "from sklearn.linear_model import LogisticRegression\n",
    "from sklearn.ensemble import RandomForestClassifier, AdaBoostClassifier\n",
    "from sklearn.linear_model import LogisticRegression\n",
    "from sklearn.svm import LinearSVC\n",
    "from sklearn.model_selection import train_test_split\n",
    "from sklearn.naive_bayes import GaussianNB\n",
    "from sklearn.tree import DecisionTreeClassifier\n",
    "\n",
    "from sklearn.model_selection import cross_val_score\n",
    "\n",
    "from sklearn.metrics import confusion_matrix\n",
    "from sklearn.metrics import accuracy_score\n",
    "from sklearn.metrics import precision_recall_curve\n",
    "#from sklearn.metrics import plot_precision_recall_curve\n",
    "import matplotlib.pyplot as plt\n",
    "from sklearn.metrics import roc_auc_score\n",
    "from sklearn.metrics import roc_curve\n",
    "from sklearn.metrics import classification_report\n",
    "from sklearn import metrics"
   ]
  },
  {
   "cell_type": "markdown",
   "metadata": {
    "id": "dSbaTauxLKzh"
   },
   "source": []
  },
  {
   "cell_type": "code",
   "execution_count": 2,
   "metadata": {
    "colab": {
     "base_uri": "https://localhost:8080/"
    },
    "id": "576KVyOxAgSO",
    "outputId": "11bf0e8c-e650-4774-e190-14949254f16e"
   },
   "outputs": [
    {
     "data": {
      "text/plain": [
       "<bound method NDFrame.head of                                                  content  \\\n",
       "0                                 Get fucking real dude.   \n",
       "1       She is as dirty as they come  and that crook ...   \n",
       "2       why did you fuck it up. I could do it all day...   \n",
       "3       Dude they dont finish enclosing the fucking s...   \n",
       "4       WTF are you talking about Men? No men thats n...   \n",
       "...                                                  ...   \n",
       "19996    I dont. But what is complaining about it goi...   \n",
       "19997   Bahah  yeah i&;m totally just gonna&; get pis...   \n",
       "19998       hahahahaha >:) im evil mwahahahahahahahahaha   \n",
       "19999            What&;s something unique about Ohio? :)   \n",
       "20000              Who is the biggest gossiper you know?   \n",
       "\n",
       "                          annotation  extras  \n",
       "0      {'notes': '', 'label': ['1']}     NaN  \n",
       "1      {'notes': '', 'label': ['1']}     NaN  \n",
       "2      {'notes': '', 'label': ['1']}     NaN  \n",
       "3      {'notes': '', 'label': ['1']}     NaN  \n",
       "4      {'notes': '', 'label': ['1']}     NaN  \n",
       "...                              ...     ...  \n",
       "19996  {'notes': '', 'label': ['0']}     NaN  \n",
       "19997  {'notes': '', 'label': ['0']}     NaN  \n",
       "19998  {'notes': '', 'label': ['0']}     NaN  \n",
       "19999  {'notes': '', 'label': ['0']}     NaN  \n",
       "20000  {'notes': '', 'label': ['0']}     NaN  \n",
       "\n",
       "[20001 rows x 3 columns]>"
      ]
     },
     "execution_count": 2,
     "metadata": {},
     "output_type": "execute_result"
    }
   ],
   "source": [
    "url = 'https://drive.google.com/uc?export=download&id=12fBlhsa5GIdtme1jT3KlPPIgIdjzqhv1'\n",
    "df = pd.read_json(url, lines= True,orient='columns')\n",
    "df.head"
   ]
  },
  {
   "cell_type": "code",
   "execution_count": 3,
   "metadata": {
    "colab": {
     "base_uri": "https://localhost:8080/"
    },
    "id": "WG0QYg2oBu5V",
    "outputId": "f48eb8b1-44f1-434f-cf2c-040f70fed54c"
   },
   "outputs": [
    {
     "name": "stderr",
     "output_type": "stream",
     "text": [
      "C:\\Users\\Hemanth Veeraballi\\AppData\\Local\\Temp\\ipykernel_19648\\1367284056.py:3: SettingWithCopyWarning: \n",
      "A value is trying to be set on a copy of a slice from a DataFrame\n",
      "\n",
      "See the caveats in the documentation: https://pandas.pydata.org/pandas-docs/stable/user_guide/indexing.html#returning-a-view-versus-a-copy\n",
      "  df.annotation[i] = 1\n",
      "C:\\Users\\Hemanth Veeraballi\\AppData\\Local\\Temp\\ipykernel_19648\\1367284056.py:5: SettingWithCopyWarning: \n",
      "A value is trying to be set on a copy of a slice from a DataFrame\n",
      "\n",
      "See the caveats in the documentation: https://pandas.pydata.org/pandas-docs/stable/user_guide/indexing.html#returning-a-view-versus-a-copy\n",
      "  df.annotation[i] = 0\n"
     ]
    }
   ],
   "source": [
    "for i in range(0,len(df)):\n",
    "    if df.annotation[i]['label'][0] == '1':\n",
    "        df.annotation[i] = 1\n",
    "    else:\n",
    "        df.annotation[i] = 0"
   ]
  },
  {
   "cell_type": "code",
   "execution_count": 4,
   "metadata": {
    "colab": {
     "base_uri": "https://localhost:8080/",
     "height": 423
    },
    "id": "zY5rDAE_JfP3",
    "outputId": "a9c7eec7-7b6b-4295-ca27-2d1cd7532a73"
   },
   "outputs": [
    {
     "data": {
      "text/html": [
       "<div>\n",
       "<style scoped>\n",
       "    .dataframe tbody tr th:only-of-type {\n",
       "        vertical-align: middle;\n",
       "    }\n",
       "\n",
       "    .dataframe tbody tr th {\n",
       "        vertical-align: top;\n",
       "    }\n",
       "\n",
       "    .dataframe thead th {\n",
       "        text-align: right;\n",
       "    }\n",
       "</style>\n",
       "<table border=\"1\" class=\"dataframe\">\n",
       "  <thead>\n",
       "    <tr style=\"text-align: right;\">\n",
       "      <th></th>\n",
       "      <th>content</th>\n",
       "      <th>annotation</th>\n",
       "    </tr>\n",
       "  </thead>\n",
       "  <tbody>\n",
       "    <tr>\n",
       "      <th>0</th>\n",
       "      <td>Get fucking real dude.</td>\n",
       "      <td>1</td>\n",
       "    </tr>\n",
       "    <tr>\n",
       "      <th>1</th>\n",
       "      <td>She is as dirty as they come  and that crook ...</td>\n",
       "      <td>1</td>\n",
       "    </tr>\n",
       "    <tr>\n",
       "      <th>2</th>\n",
       "      <td>why did you fuck it up. I could do it all day...</td>\n",
       "      <td>1</td>\n",
       "    </tr>\n",
       "    <tr>\n",
       "      <th>3</th>\n",
       "      <td>Dude they dont finish enclosing the fucking s...</td>\n",
       "      <td>1</td>\n",
       "    </tr>\n",
       "    <tr>\n",
       "      <th>4</th>\n",
       "      <td>WTF are you talking about Men? No men thats n...</td>\n",
       "      <td>1</td>\n",
       "    </tr>\n",
       "    <tr>\n",
       "      <th>...</th>\n",
       "      <td>...</td>\n",
       "      <td>...</td>\n",
       "    </tr>\n",
       "    <tr>\n",
       "      <th>19996</th>\n",
       "      <td>I dont. But what is complaining about it goi...</td>\n",
       "      <td>0</td>\n",
       "    </tr>\n",
       "    <tr>\n",
       "      <th>19997</th>\n",
       "      <td>Bahah  yeah i&amp;;m totally just gonna&amp;; get pis...</td>\n",
       "      <td>0</td>\n",
       "    </tr>\n",
       "    <tr>\n",
       "      <th>19998</th>\n",
       "      <td>hahahahaha &gt;:) im evil mwahahahahahahahahaha</td>\n",
       "      <td>0</td>\n",
       "    </tr>\n",
       "    <tr>\n",
       "      <th>19999</th>\n",
       "      <td>What&amp;;s something unique about Ohio? :)</td>\n",
       "      <td>0</td>\n",
       "    </tr>\n",
       "    <tr>\n",
       "      <th>20000</th>\n",
       "      <td>Who is the biggest gossiper you know?</td>\n",
       "      <td>0</td>\n",
       "    </tr>\n",
       "  </tbody>\n",
       "</table>\n",
       "<p>20001 rows × 2 columns</p>\n",
       "</div>"
      ],
      "text/plain": [
       "                                                 content annotation\n",
       "0                                 Get fucking real dude.          1\n",
       "1       She is as dirty as they come  and that crook ...          1\n",
       "2       why did you fuck it up. I could do it all day...          1\n",
       "3       Dude they dont finish enclosing the fucking s...          1\n",
       "4       WTF are you talking about Men? No men thats n...          1\n",
       "...                                                  ...        ...\n",
       "19996    I dont. But what is complaining about it goi...          0\n",
       "19997   Bahah  yeah i&;m totally just gonna&; get pis...          0\n",
       "19998       hahahahaha >:) im evil mwahahahahahahahahaha          0\n",
       "19999            What&;s something unique about Ohio? :)          0\n",
       "20000              Who is the biggest gossiper you know?          0\n",
       "\n",
       "[20001 rows x 2 columns]"
      ]
     },
     "execution_count": 4,
     "metadata": {},
     "output_type": "execute_result"
    }
   ],
   "source": [
    "df.drop(['extras'],axis = 1,inplace = True)\n",
    "df"
   ]
  },
  {
   "cell_type": "code",
   "execution_count": 5,
   "metadata": {
    "colab": {
     "base_uri": "https://localhost:8080/"
    },
    "id": "e2Z-9RpGJkuO",
    "outputId": "642610ca-dc32-40f5-b289-b0f63dda48d2"
   },
   "outputs": [
    {
     "data": {
      "text/plain": [
       "(20001, 2)"
      ]
     },
     "execution_count": 5,
     "metadata": {},
     "output_type": "execute_result"
    }
   ],
   "source": [
    "df.shape "
   ]
  },
  {
   "cell_type": "markdown",
   "metadata": {
    "id": "XcnWwdqTMYmW"
   },
   "source": []
  },
  {
   "cell_type": "code",
   "execution_count": 6,
   "metadata": {
    "colab": {
     "base_uri": "https://localhost:8080/",
     "height": 279
    },
    "id": "UwXnu0sQMbQW",
    "outputId": "664184c7-2e48-47e0-b98e-e7107f781e0f"
   },
   "outputs": [
    {
     "data": {
      "text/plain": [
       "<AxesSubplot:>"
      ]
     },
     "execution_count": 6,
     "metadata": {},
     "output_type": "execute_result"
    },
    {
     "data": {
      "image/png": "[encoded data removed]",
      "text/plain": [
       "<Figure size 640x480 with 1 Axes>"
      ]
     },
     "metadata": {},
     "output_type": "display_data"
    }
   ],
   "source": [
    "df['annotation'].value_counts().sort_index().plot.bar()"
   ]
  },
  {
   "cell_type": "code",
   "execution_count": 7,
   "metadata": {
    "colab": {
     "base_uri": "https://localhost:8080/"
    },
    "id": "3FGX6jJmikrd",
    "outputId": "17543f67-8458-4e6c-c6dd-654e613b77e7"
   },
   "outputs": [
    {
     "name": "stdout",
     "output_type": "stream",
     "text": [
      "PosiNon cyber trollingtive:  60.89195540222989 %\n",
      "Cybertrolling:  39.10804459777012 %\n"
     ]
    }
   ],
   "source": [
    "print(\"PosiNon cyber trollingtive: \", df.annotation.value_counts()[0]/len(df.annotation)*100,\"%\")\n",
    "print(\"Cybertrolling: \", df.annotation.value_counts()[1]/len(df.annotation)*100,\"%\")"
   ]
  },
  {
   "cell_type": "markdown",
   "metadata": {
    "id": "RGBzITynLQg4"
   },
   "source": []
  },
  {
   "cell_type": "code",
   "execution_count": 8,
   "metadata": {
    "colab": {
     "base_uri": "https://localhost:8080/",
     "height": 458
    },
    "id": "Lp3xpJl3K4at",
    "outputId": "700009a7-ef69-4a96-ad59-e8ac43803fad"
   },
   "outputs": [
    {
     "name": "stderr",
     "output_type": "stream",
     "text": [
      "[nltk_data] Downloading package stopwords to C:\\Users\\Hemanth\n",
      "[nltk_data]     Veeraballi\\AppData\\Roaming\\nltk_data...\n",
      "[nltk_data]   Package stopwords is already up-to-date!\n"
     ]
    },
    {
     "data": {
      "text/html": [
       "<div>\n",
       "<style scoped>\n",
       "    .dataframe tbody tr th:only-of-type {\n",
       "        vertical-align: middle;\n",
       "    }\n",
       "\n",
       "    .dataframe tbody tr th {\n",
       "        vertical-align: top;\n",
       "    }\n",
       "\n",
       "    .dataframe thead th {\n",
       "        text-align: right;\n",
       "    }\n",
       "</style>\n",
       "<table border=\"1\" class=\"dataframe\">\n",
       "  <thead>\n",
       "    <tr style=\"text-align: right;\">\n",
       "      <th></th>\n",
       "      <th>annotation</th>\n",
       "      <th>content_without_puncs</th>\n",
       "    </tr>\n",
       "  </thead>\n",
       "  <tbody>\n",
       "    <tr>\n",
       "      <th>0</th>\n",
       "      <td>1</td>\n",
       "      <td>Get fucking real dude</td>\n",
       "    </tr>\n",
       "    <tr>\n",
       "      <th>1</th>\n",
       "      <td>1</td>\n",
       "      <td>She dirty come crook Rengel Dems fucking corru...</td>\n",
       "    </tr>\n",
       "    <tr>\n",
       "      <th>2</th>\n",
       "      <td>1</td>\n",
       "      <td>fuck up I could day too Lets hour Ping later s...</td>\n",
       "    </tr>\n",
       "    <tr>\n",
       "      <th>3</th>\n",
       "      <td>1</td>\n",
       "      <td>Dude dont finish enclosing fucking showers I h...</td>\n",
       "    </tr>\n",
       "    <tr>\n",
       "      <th>4</th>\n",
       "      <td>1</td>\n",
       "      <td>WTF talking Men No men thats menage thats gay</td>\n",
       "    </tr>\n",
       "    <tr>\n",
       "      <th>...</th>\n",
       "      <td>...</td>\n",
       "      <td>...</td>\n",
       "    </tr>\n",
       "    <tr>\n",
       "      <th>19996</th>\n",
       "      <td>0</td>\n",
       "      <td>I dont But complaining going do</td>\n",
       "    </tr>\n",
       "    <tr>\n",
       "      <th>19997</th>\n",
       "      <td>0</td>\n",
       "      <td>Bahah yeah im totally gonna get pissed talking...</td>\n",
       "    </tr>\n",
       "    <tr>\n",
       "      <th>19998</th>\n",
       "      <td>0</td>\n",
       "      <td>hahahahaha  im evil mwahahahahahahahahaha</td>\n",
       "    </tr>\n",
       "    <tr>\n",
       "      <th>19999</th>\n",
       "      <td>0</td>\n",
       "      <td>Whats something unique Ohio</td>\n",
       "    </tr>\n",
       "    <tr>\n",
       "      <th>20000</th>\n",
       "      <td>0</td>\n",
       "      <td>Who biggest gossiper know</td>\n",
       "    </tr>\n",
       "  </tbody>\n",
       "</table>\n",
       "<p>20001 rows × 2 columns</p>\n",
       "</div>"
      ],
      "text/plain": [
       "      annotation                              content_without_puncs\n",
       "0              1                              Get fucking real dude\n",
       "1              1  She dirty come crook Rengel Dems fucking corru...\n",
       "2              1  fuck up I could day too Lets hour Ping later s...\n",
       "3              1  Dude dont finish enclosing fucking showers I h...\n",
       "4              1      WTF talking Men No men thats menage thats gay\n",
       "...          ...                                                ...\n",
       "19996          0                    I dont But complaining going do\n",
       "19997          0  Bahah yeah im totally gonna get pissed talking...\n",
       "19998          0          hahahahaha  im evil mwahahahahahahahahaha\n",
       "19999          0                       Whats something unique Ohio \n",
       "20000          0                          Who biggest gossiper know\n",
       "\n",
       "[20001 rows x 2 columns]"
      ]
     },
     "execution_count": 8,
     "metadata": {},
     "output_type": "execute_result"
    }
   ],
   "source": [
    "nltk.download('stopwords')\n",
    "stop = stopwords.words('english')\n",
    "\n",
    "regex = re.compile('[%s]' % re.escape(string.punctuation))\n",
    "\n",
    "def test_re(s):\n",
    "    return regex.sub('', s)\n",
    "\n",
    "df ['content_without_stopwords'] = df['content'].apply(lambda x: ' '.join([word for word in x.split() if word not in (stop)]))\n",
    "df ['content_without_puncs'] = df['content_without_stopwords'].apply(lambda x: regex.sub('',x))\n",
    "del df['content_without_stopwords']\n",
    "del df['content']\n",
    "df"
   ]
  },
  {
   "cell_type": "code",
   "execution_count": 9,
   "metadata": {},
   "outputs": [
    {
     "name": "stderr",
     "output_type": "stream",
     "text": [
      "[nltk_data] Downloading package punkt to C:\\Users\\Hemanth\n",
      "[nltk_data]     Veeraballi\\AppData\\Roaming\\nltk_data...\n",
      "[nltk_data]   Package punkt is already up-to-date!\n"
     ]
    },
    {
     "data": {
      "text/plain": [
       "True"
      ]
     },
     "execution_count": 9,
     "metadata": {},
     "output_type": "execute_result"
    }
   ],
   "source": [
    "import nltk\n",
    "nltk.download('punkt')"
   ]
  },
  {
   "cell_type": "code",
   "execution_count": 10,
   "metadata": {
    "colab": {
     "base_uri": "https://localhost:8080/",
     "height": 458
    },
    "id": "p0zjVqoqME5j",
    "outputId": "12cdc349-ea3d-4fea-cf51-59631b6ca6fc"
   },
   "outputs": [
    {
     "name": "stderr",
     "output_type": "stream",
     "text": [
      "[nltk_data] Downloading package punkt to C:\\Users\\Hemanth\n",
      "[nltk_data]     Veeraballi\\AppData\\Roaming\\nltk_data...\n",
      "[nltk_data]   Package punkt is already up-to-date!\n"
     ]
    },
    {
     "data": {
      "text/html": [
       "<div>\n",
       "<style scoped>\n",
       "    .dataframe tbody tr th:only-of-type {\n",
       "        vertical-align: middle;\n",
       "    }\n",
       "\n",
       "    .dataframe tbody tr th {\n",
       "        vertical-align: top;\n",
       "    }\n",
       "\n",
       "    .dataframe thead th {\n",
       "        text-align: right;\n",
       "    }\n",
       "</style>\n",
       "<table border=\"1\" class=\"dataframe\">\n",
       "  <thead>\n",
       "    <tr style=\"text-align: right;\">\n",
       "      <th></th>\n",
       "      <th>annotation</th>\n",
       "      <th>content_tokenize</th>\n",
       "    </tr>\n",
       "  </thead>\n",
       "  <tbody>\n",
       "    <tr>\n",
       "      <th>0</th>\n",
       "      <td>1</td>\n",
       "      <td>get fuck real dude</td>\n",
       "    </tr>\n",
       "    <tr>\n",
       "      <th>1</th>\n",
       "      <td>1</td>\n",
       "      <td>she dirti come crook rengel dem fuck corrupt ...</td>\n",
       "    </tr>\n",
       "    <tr>\n",
       "      <th>2</th>\n",
       "      <td>1</td>\n",
       "      <td>fuck up i could day too let hour ping later s...</td>\n",
       "    </tr>\n",
       "    <tr>\n",
       "      <th>3</th>\n",
       "      <td>1</td>\n",
       "      <td>dude dont finish enclos fuck shower i hate ha...</td>\n",
       "    </tr>\n",
       "    <tr>\n",
       "      <th>4</th>\n",
       "      <td>1</td>\n",
       "      <td>wtf talk men no men that menag that gay</td>\n",
       "    </tr>\n",
       "    <tr>\n",
       "      <th>...</th>\n",
       "      <td>...</td>\n",
       "      <td>...</td>\n",
       "    </tr>\n",
       "    <tr>\n",
       "      <th>19996</th>\n",
       "      <td>0</td>\n",
       "      <td>i dont but complain go do</td>\n",
       "    </tr>\n",
       "    <tr>\n",
       "      <th>19997</th>\n",
       "      <td>0</td>\n",
       "      <td>bahah yeah im total gon na get piss talk you ...</td>\n",
       "    </tr>\n",
       "    <tr>\n",
       "      <th>19998</th>\n",
       "      <td>0</td>\n",
       "      <td>hahahahaha im evil mwahahahahahahahahaha</td>\n",
       "    </tr>\n",
       "    <tr>\n",
       "      <th>19999</th>\n",
       "      <td>0</td>\n",
       "      <td>what someth uniqu ohio</td>\n",
       "    </tr>\n",
       "    <tr>\n",
       "      <th>20000</th>\n",
       "      <td>0</td>\n",
       "      <td>who biggest gossip know</td>\n",
       "    </tr>\n",
       "  </tbody>\n",
       "</table>\n",
       "<p>20001 rows × 2 columns</p>\n",
       "</div>"
      ],
      "text/plain": [
       "      annotation                                   content_tokenize\n",
       "0              1                                 get fuck real dude\n",
       "1              1   she dirti come crook rengel dem fuck corrupt ...\n",
       "2              1   fuck up i could day too let hour ping later s...\n",
       "3              1   dude dont finish enclos fuck shower i hate ha...\n",
       "4              1            wtf talk men no men that menag that gay\n",
       "...          ...                                                ...\n",
       "19996          0                          i dont but complain go do\n",
       "19997          0   bahah yeah im total gon na get piss talk you ...\n",
       "19998          0           hahahahaha im evil mwahahahahahahahahaha\n",
       "19999          0                             what someth uniqu ohio\n",
       "20000          0                            who biggest gossip know\n",
       "\n",
       "[20001 rows x 2 columns]"
      ]
     },
     "execution_count": 10,
     "metadata": {},
     "output_type": "execute_result"
    }
   ],
   "source": [
    "porter_stemmer = PorterStemmer()\n",
    "nltk.download('punkt')\n",
    "tok_list = []\n",
    "size = df.shape[0]\n",
    "\n",
    "for i in range(size):\n",
    "  word_data = df['content_without_puncs'][i]\n",
    "  nltk_tokens = nltk.word_tokenize(word_data)\n",
    "  final = ''\n",
    "  for w in nltk_tokens:\n",
    "    final = final + ' ' + porter_stemmer.stem(w)\n",
    "  tok_list.append(final)\n",
    "\n",
    "df['content_tokenize'] = tok_list\n",
    "del df['content_without_puncs']\n",
    "df"
   ]
  },
  {
   "cell_type": "code",
   "execution_count": 11,
   "metadata": {
    "colab": {
     "base_uri": "https://localhost:8080/",
     "height": 423
    },
    "id": "aKzuLpipUbLb",
    "outputId": "35d45d5c-132a-475d-8f75-1e80bb1f592e"
   },
   "outputs": [
    {
     "data": {
      "text/html": [
       "<div>\n",
       "<style scoped>\n",
       "    .dataframe tbody tr th:only-of-type {\n",
       "        vertical-align: middle;\n",
       "    }\n",
       "\n",
       "    .dataframe tbody tr th {\n",
       "        vertical-align: top;\n",
       "    }\n",
       "\n",
       "    .dataframe thead th {\n",
       "        text-align: right;\n",
       "    }\n",
       "</style>\n",
       "<table border=\"1\" class=\"dataframe\">\n",
       "  <thead>\n",
       "    <tr style=\"text-align: right;\">\n",
       "      <th></th>\n",
       "      <th>annotation</th>\n",
       "      <th>content_tokenize</th>\n",
       "      <th>content</th>\n",
       "    </tr>\n",
       "  </thead>\n",
       "  <tbody>\n",
       "    <tr>\n",
       "      <th>0</th>\n",
       "      <td>1</td>\n",
       "      <td>get fuck real dude</td>\n",
       "      <td>get fuck real dude</td>\n",
       "    </tr>\n",
       "    <tr>\n",
       "      <th>1</th>\n",
       "      <td>1</td>\n",
       "      <td>she dirti come crook rengel dem fuck corrupt ...</td>\n",
       "      <td>she dirti come crook rengel dem fuck corrupt ...</td>\n",
       "    </tr>\n",
       "    <tr>\n",
       "      <th>2</th>\n",
       "      <td>1</td>\n",
       "      <td>fuck up i could day too let hour ping later s...</td>\n",
       "      <td>fuck up i could day too let hour ping later s...</td>\n",
       "    </tr>\n",
       "    <tr>\n",
       "      <th>3</th>\n",
       "      <td>1</td>\n",
       "      <td>dude dont finish enclos fuck shower i hate ha...</td>\n",
       "      <td>dude dont finish enclos fuck shower i hate ha...</td>\n",
       "    </tr>\n",
       "    <tr>\n",
       "      <th>4</th>\n",
       "      <td>1</td>\n",
       "      <td>wtf talk men no men that menag that gay</td>\n",
       "      <td>wtf talk men no men that menag that gay</td>\n",
       "    </tr>\n",
       "    <tr>\n",
       "      <th>...</th>\n",
       "      <td>...</td>\n",
       "      <td>...</td>\n",
       "      <td>...</td>\n",
       "    </tr>\n",
       "    <tr>\n",
       "      <th>19996</th>\n",
       "      <td>0</td>\n",
       "      <td>i dont but complain go do</td>\n",
       "      <td>i dont but complain go do</td>\n",
       "    </tr>\n",
       "    <tr>\n",
       "      <th>19997</th>\n",
       "      <td>0</td>\n",
       "      <td>bahah yeah im total gon na get piss talk you ...</td>\n",
       "      <td>bahah yeah im total gon na get piss talk you ...</td>\n",
       "    </tr>\n",
       "    <tr>\n",
       "      <th>19998</th>\n",
       "      <td>0</td>\n",
       "      <td>hahahahaha im evil mwahahahahahahahahaha</td>\n",
       "      <td>hahahahaha im evil mwahahahahahahahahaha</td>\n",
       "    </tr>\n",
       "    <tr>\n",
       "      <th>19999</th>\n",
       "      <td>0</td>\n",
       "      <td>what someth uniqu ohio</td>\n",
       "      <td>what someth uniqu ohio</td>\n",
       "    </tr>\n",
       "    <tr>\n",
       "      <th>20000</th>\n",
       "      <td>0</td>\n",
       "      <td>who biggest gossip know</td>\n",
       "      <td>who biggest gossip know</td>\n",
       "    </tr>\n",
       "  </tbody>\n",
       "</table>\n",
       "<p>20001 rows × 3 columns</p>\n",
       "</div>"
      ],
      "text/plain": [
       "      annotation                                   content_tokenize  \\\n",
       "0              1                                 get fuck real dude   \n",
       "1              1   she dirti come crook rengel dem fuck corrupt ...   \n",
       "2              1   fuck up i could day too let hour ping later s...   \n",
       "3              1   dude dont finish enclos fuck shower i hate ha...   \n",
       "4              1            wtf talk men no men that menag that gay   \n",
       "...          ...                                                ...   \n",
       "19996          0                          i dont but complain go do   \n",
       "19997          0   bahah yeah im total gon na get piss talk you ...   \n",
       "19998          0           hahahahaha im evil mwahahahahahahahahaha   \n",
       "19999          0                             what someth uniqu ohio   \n",
       "20000          0                            who biggest gossip know   \n",
       "\n",
       "                                                 content  \n",
       "0                                     get fuck real dude  \n",
       "1       she dirti come crook rengel dem fuck corrupt ...  \n",
       "2       fuck up i could day too let hour ping later s...  \n",
       "3       dude dont finish enclos fuck shower i hate ha...  \n",
       "4                wtf talk men no men that menag that gay  \n",
       "...                                                  ...  \n",
       "19996                          i dont but complain go do  \n",
       "19997   bahah yeah im total gon na get piss talk you ...  \n",
       "19998           hahahahaha im evil mwahahahahahahahahaha  \n",
       "19999                             what someth uniqu ohio  \n",
       "20000                            who biggest gossip know  \n",
       "\n",
       "[20001 rows x 3 columns]"
      ]
     },
     "execution_count": 11,
     "metadata": {},
     "output_type": "execute_result"
    }
   ],
   "source": [
    "noNums = []\n",
    "for i in range(len(df)):\n",
    "  noNums.append(''.join([i for i in df['content_tokenize'][i] if not i.isdigit()]))\n",
    "\n",
    "df['content'] = noNums\n",
    "df"
   ]
  },
  {
   "cell_type": "code",
   "execution_count": 12,
   "metadata": {
    "id": "Ft1hdwsMte03"
   },
   "outputs": [],
   "source": [
    "tfIdfVectorizer=TfidfVectorizer(use_idf=True, sublinear_tf=True)\n",
    "tfIdf = tfIdfVectorizer.fit_transform(df.content.tolist())"
   ]
  },
  {
   "cell_type": "code",
   "execution_count": 13,
   "metadata": {
    "colab": {
     "base_uri": "https://localhost:8080/"
    },
    "id": "cb2WDQ4nv93h",
    "outputId": "46d2d6e1-9cf4-431f-bc11-e11e1e52daf7"
   },
   "outputs": [
    {
     "name": "stdout",
     "output_type": "stream",
     "text": [
      "  (0, 3598)\t0.5682792040556577\n",
      "  (0, 10534)\t0.6408032598619846\n",
      "  (0, 4665)\t0.3314842764826402\n",
      "  (0, 4896)\t0.3956616014132561\n",
      "  (1, 7497)\t0.1421522208901913\n",
      "  (1, 7670)\t0.18997382467613527\n",
      "  (1, 10707)\t0.3380770158779807\n",
      "  (1, 7868)\t0.17712641457020445\n",
      "  (1, 6881)\t0.2707206754001475\n",
      "  (1, 2649)\t0.3478358132370042\n",
      "  (1, 3127)\t0.36956626902789813\n",
      "  (1, 10686)\t0.36956626902789813\n",
      "  (1, 2791)\t0.3609013757539863\n",
      "  (1, 2453)\t0.20014266836955738\n",
      "  (1, 3306)\t0.294004579420996\n",
      "  (1, 11402)\t0.24231137330135857\n",
      "  (1, 4665)\t0.12302268120056382\n",
      "  (2, 5648)\t0.26264752682375\n",
      "  (2, 1476)\t0.2858475342270202\n",
      "  (2, 14420)\t0.28761927584628644\n",
      "  (2, 11156)\t0.4130661580674724\n",
      "  (2, 7317)\t0.3061308801267633\n",
      "  (2, 9784)\t0.38298243181872793\n",
      "  (2, 5956)\t0.28144866948736874\n",
      "  (2, 7434)\t0.24199503289435126\n",
      "  :\t:\n",
      "  (19997, 8527)\t0.362558005670761\n",
      "  (19997, 14527)\t0.1829917686470462\n",
      "  (19997, 364)\t0.2524980709313037\n",
      "  (19997, 8632)\t0.19487099515279527\n",
      "  (19997, 5039)\t0.21529577669215724\n",
      "  (19997, 14639)\t0.15162817445998714\n",
      "  (19997, 5311)\t0.2322934882970198\n",
      "  (19997, 9798)\t0.22212274676003707\n",
      "  (19997, 13161)\t0.22711912398563924\n",
      "  (19997, 6367)\t0.1396437116782225\n",
      "  (19997, 12782)\t0.14437044050700218\n",
      "  (19997, 12583)\t0.21638447818263024\n",
      "  (19997, 4896)\t0.14751463907596812\n",
      "  (19998, 8599)\t0.6474267500657062\n",
      "  (19998, 5355)\t0.5240398795250955\n",
      "  (19998, 4014)\t0.5046761457592059\n",
      "  (19998, 6367)\t0.22698633410034566\n",
      "  (19999, 13559)\t0.6577171835959204\n",
      "  (19999, 9144)\t0.5711145182804813\n",
      "  (19999, 11870)\t0.38585942493978787\n",
      "  (19999, 14101)\t0.30388948253771536\n",
      "  (20000, 5085)\t0.7029240479741253\n",
      "  (20000, 1246)\t0.5142345992116426\n",
      "  (20000, 14161)\t0.4012493121480635\n",
      "  (20000, 7153)\t0.28365392515178917\n"
     ]
    }
   ],
   "source": [
    "print(tfIdf)"
   ]
  },
  {
   "cell_type": "code",
   "execution_count": 14,
   "metadata": {
    "colab": {
     "base_uri": "https://localhost:8080/"
    },
    "id": "oiS6vofL6oVg",
    "outputId": "51b91bd5-f71b-4076-b453-9023888b0c99"
   },
   "outputs": [
    {
     "name": "stdout",
     "output_type": "stream",
     "text": [
      "(20001, 14783)\n"
     ]
    }
   ],
   "source": [
    "print(tfIdf.shape) "
   ]
  },
  {
   "cell_type": "code",
   "execution_count": 15,
   "metadata": {
    "colab": {
     "base_uri": "https://localhost:8080/"
    },
    "id": "iTtnFAZUwC4q",
    "outputId": "4613704b-6ca8-4a0e-848e-83b073bf500d"
   },
   "outputs": [
    {
     "name": "stdout",
     "output_type": "stream",
     "text": [
      "         TF-IDF\n",
      "sched  0.413066\n",
      "ping   0.382982\n",
      "later  0.306131\n",
      "write  0.287619\n",
      "book   0.285848\n",
      "hour   0.281449\n",
      "here   0.262648\n",
      "let    0.241995\n",
      "up     0.237401\n",
      "could  0.223151\n"
     ]
    }
   ],
   "source": [
    "df2 = pd.DataFrame(tfIdf[2].T.todense(), index=tfIdfVectorizer.get_feature_names_out(), columns=[\"TF-IDF\"]) #for second entry only(just to check if working)\n",
    "df2 = df2.sort_values('TF-IDF', ascending=False)\n",
    "print (df2.head(10))"
   ]
  },
  {
   "cell_type": "code",
   "execution_count": 16,
   "metadata": {
    "colab": {
     "base_uri": "https://localhost:8080/"
    },
    "id": "YmJnUKdTwfKB",
    "outputId": "d83271fe-661d-4283-a5bf-ca851fc30fc3"
   },
   "outputs": [
    {
     "name": "stdout",
     "output_type": "stream",
     "text": [
      "        aa  aaaaaaaaaa  aaaaaanndgummi  aaaagh  aaaawwwww  aaand  \\\n",
      "0      0.0         0.0             0.0     0.0        0.0    0.0   \n",
      "1      0.0         0.0             0.0     0.0        0.0    0.0   \n",
      "2      0.0         0.0             0.0     0.0        0.0    0.0   \n",
      "3      0.0         0.0             0.0     0.0        0.0    0.0   \n",
      "4      0.0         0.0             0.0     0.0        0.0    0.0   \n",
      "...    ...         ...             ...     ...        ...    ...   \n",
      "19996  0.0         0.0             0.0     0.0        0.0    0.0   \n",
      "19997  0.0         0.0             0.0     0.0        0.0    0.0   \n",
      "19998  0.0         0.0             0.0     0.0        0.0    0.0   \n",
      "19999  0.0         0.0             0.0     0.0        0.0    0.0   \n",
      "20000  0.0         0.0             0.0     0.0        0.0    0.0   \n",
      "\n",
      "       aaanyyywhoooooooo  aaargh  aaarrrg  aah  ...  zon  zone  zoo  zoom  \\\n",
      "0                    0.0     0.0      0.0  0.0  ...  0.0   0.0  0.0   0.0   \n",
      "1                    0.0     0.0      0.0  0.0  ...  0.0   0.0  0.0   0.0   \n",
      "2                    0.0     0.0      0.0  0.0  ...  0.0   0.0  0.0   0.0   \n",
      "3                    0.0     0.0      0.0  0.0  ...  0.0   0.0  0.0   0.0   \n",
      "4                    0.0     0.0      0.0  0.0  ...  0.0   0.0  0.0   0.0   \n",
      "...                  ...     ...      ...  ...  ...  ...   ...  ...   ...   \n",
      "19996                0.0     0.0      0.0  0.0  ...  0.0   0.0  0.0   0.0   \n",
      "19997                0.0     0.0      0.0  0.0  ...  0.0   0.0  0.0   0.0   \n",
      "19998                0.0     0.0      0.0  0.0  ...  0.0   0.0  0.0   0.0   \n",
      "19999                0.0     0.0      0.0  0.0  ...  0.0   0.0  0.0   0.0   \n",
      "20000                0.0     0.0      0.0  0.0  ...  0.0   0.0  0.0   0.0   \n",
      "\n",
      "       zro  zucker  zune  zzzz  zzzzzz  zzzzzzzz  \n",
      "0      0.0     0.0   0.0   0.0     0.0       0.0  \n",
      "1      0.0     0.0   0.0   0.0     0.0       0.0  \n",
      "2      0.0     0.0   0.0   0.0     0.0       0.0  \n",
      "3      0.0     0.0   0.0   0.0     0.0       0.0  \n",
      "4      0.0     0.0   0.0   0.0     0.0       0.0  \n",
      "...    ...     ...   ...   ...     ...       ...  \n",
      "19996  0.0     0.0   0.0   0.0     0.0       0.0  \n",
      "19997  0.0     0.0   0.0   0.0     0.0       0.0  \n",
      "19998  0.0     0.0   0.0   0.0     0.0       0.0  \n",
      "19999  0.0     0.0   0.0   0.0     0.0       0.0  \n",
      "20000  0.0     0.0   0.0   0.0     0.0       0.0  \n",
      "\n",
      "[20001 rows x 14783 columns]\n"
     ]
    }
   ],
   "source": [
    "dfx = pd.DataFrame(tfIdf.toarray(), columns = tfIdfVectorizer.get_feature_names_out())\n",
    "print(dfx)"
   ]
  },
  {
   "cell_type": "code",
   "execution_count": 17,
   "metadata": {
    "id": "dPnN_5Zs5oRT"
   },
   "outputs": [],
   "source": [
    "def display_scores(vectorizer, tfidf_result):\n",
    "    scores = zip(vectorizer.get_feature_names_out(),\n",
    "                 np.asarray(tfidf_result.sum(axis=0)).ravel())\n",
    "    sorted_scores = sorted(scores, key=lambda x: x[1], reverse=True)\n",
    "    i=0\n",
    "    for item in sorted_scores:\n",
    "        print (\"{0:50} Score: {1}\".format(item[0], item[1]))\n",
    "        i = i+1\n",
    "        if (i > 25):\n",
    "          break"
   ]
  },
  {
   "cell_type": "code",
   "execution_count": 18,
   "metadata": {
    "colab": {
     "base_uri": "https://localhost:8080/"
    },
    "id": "Fhclr5Bs54f5",
    "outputId": "4cde81f0-51a5-47dc-ccb6-3053ef6e0cde"
   },
   "outputs": [
    {
     "name": "stdout",
     "output_type": "stream",
     "text": [
      "hate                                               Score: 533.8157298036014\n",
      "fuck                                               Score: 503.76150769255435\n",
      "damn                                               Score: 482.3875012051478\n",
      "suck                                               Score: 407.37790877127185\n",
      "ass                                                Score: 337.54089621427744\n",
      "that                                               Score: 311.6250930420745\n",
      "lol                                                Score: 298.0085779872157\n",
      "im                                                 Score: 296.0216055277791\n",
      "like                                               Score: 287.8183474868775\n",
      "you                                                Score: 284.7850587424088\n",
      "it                                                 Score: 254.75722294501585\n",
      "get                                                Score: 253.19747902607998\n",
      "what                                               Score: 221.43673623523864\n",
      "know                                               Score: 211.53595900888456\n",
      "would                                              Score: 202.5073882820925\n",
      "bitch                                              Score: 193.08800391463464\n",
      "ye                                                 Score: 182.22364463196365\n",
      "love                                               Score: 181.49014270754344\n",
      "go                                                 Score: 180.2588319545915\n",
      "haha                                               Score: 179.29466045019018\n",
      "think                                              Score: 178.9039058038677\n",
      "one                                                Score: 174.16019276608517\n",
      "do                                                 Score: 160.57524593088053\n",
      "time                                               Score: 160.1100301847739\n",
      "gay                                                Score: 159.5820454915121\n",
      "peopl                                              Score: 151.04499856119287\n"
     ]
    }
   ],
   "source": [
    "#top 25 words\n",
    "display_scores(tfIdfVectorizer, tfIdf)"
   ]
  },
  {
   "cell_type": "code",
   "execution_count": 19,
   "metadata": {
    "colab": {
     "base_uri": "https://localhost:8080/"
    },
    "id": "nQZngbDHd4x_",
    "outputId": "c1fcdce7-e695-458a-c48e-d05caad98acd"
   },
   "outputs": [
    {
     "name": "stdout",
     "output_type": "stream",
     "text": [
      "(16000, 14783)\n",
      "(16000,)\n",
      "(4001, 14783)\n",
      "(4001,)\n"
     ]
    }
   ],
   "source": [
    "X=tfIdf.toarray()\n",
    "y = np.array(df.annotation.tolist())\n",
    "X_train, X_test, y_train, y_test = train_test_split(X, y, test_size=0.2, random_state=0)\n",
    "\n",
    "print(X_train.shape)\n",
    "print(y_train.shape)\n",
    "print(X_test.shape)\n",
    "print(y_test.shape)"
   ]
  },
  {
   "cell_type": "code",
   "execution_count": 20,
   "metadata": {
    "colab": {
     "base_uri": "https://localhost:8080/"
    },
    "id": "-SjTzm2fjKEE",
    "outputId": "d0c09c8d-312f-4fed-b8fc-e02f20bf939d"
   },
   "outputs": [
    {
     "name": "stdout",
     "output_type": "stream",
     "text": [
      "[[   0    1]\n",
      " [9750 6250]]\n"
     ]
    }
   ],
   "source": [
    "unique_elements, counts_elements = np.unique(y_train, return_counts=True)\n",
    "print(np.asarray((unique_elements, counts_elements)))"
   ]
  },
  {
   "cell_type": "code",
   "execution_count": 21,
   "metadata": {
    "colab": {
     "base_uri": "https://localhost:8080/"
    },
    "id": "dkt2VjU8kXLl",
    "outputId": "343f4235-fad0-44e0-f308-95500b95bbe0"
   },
   "outputs": [
    {
     "name": "stdout",
     "output_type": "stream",
     "text": [
      "[[   0    1]\n",
      " [2429 1572]]\n"
     ]
    }
   ],
   "source": [
    "unique_elements, counts_elements = np.unique(y_test, return_counts=True)\n",
    "print(np.asarray((unique_elements, counts_elements)))"
   ]
  },
  {
   "cell_type": "code",
   "execution_count": 22,
   "metadata": {},
   "outputs": [
    {
     "name": "stdout",
     "output_type": "stream",
     "text": [
      "Requirement already satisfied: imblearn in c:\\users\\hemanth veeraballi\\anaconda3\\lib\\site-packages (0.0)\n",
      "Requirement already satisfied: imbalanced-learn in c:\\users\\hemanth veeraballi\\anaconda3\\lib\\site-packages (from imblearn) (0.10.1)\n",
      "Requirement already satisfied: scikit-learn>=1.0.2 in c:\\users\\hemanth veeraballi\\anaconda3\\lib\\site-packages (from imbalanced-learn->imblearn) (1.0.2)\n",
      "Requirement already satisfied: threadpoolctl>=2.0.0 in c:\\users\\hemanth veeraballi\\anaconda3\\lib\\site-packages (from imbalanced-learn->imblearn) (2.2.0)\n",
      "Requirement already satisfied: scipy>=1.3.2 in c:\\users\\hemanth veeraballi\\anaconda3\\lib\\site-packages (from imbalanced-learn->imblearn) (1.9.1)\n",
      "Requirement already satisfied: numpy>=1.17.3 in c:\\users\\hemanth veeraballi\\anaconda3\\lib\\site-packages (from imbalanced-learn->imblearn) (1.21.5)\n",
      "Requirement already satisfied: joblib>=1.1.1 in c:\\users\\hemanth veeraballi\\anaconda3\\lib\\site-packages (from imbalanced-learn->imblearn) (1.2.0)\n",
      "Note: you may need to restart the kernel to use updated packages.\n"
     ]
    }
   ],
   "source": [
    "pip install imblearn\n"
   ]
  },
  {
   "cell_type": "code",
   "execution_count": 23,
   "metadata": {
    "id": "vEkoOucMrtcT"
   },
   "outputs": [],
   "source": [
    "from imblearn.over_sampling import RandomOverSampler\n",
    "\n",
    "oversample = RandomOverSampler(sampling_strategy='not majority')\n",
    "X_over, y_over = oversample.fit_resample(X_train, y_train)"
   ]
  },
  {
   "cell_type": "code",
   "execution_count": 24,
   "metadata": {
    "colab": {
     "base_uri": "https://localhost:8080/"
    },
    "id": "6uPLIoFAsQFf",
    "outputId": "4024ff7c-69dd-4c17-d09b-3d2fa2d38f33"
   },
   "outputs": [
    {
     "name": "stdout",
     "output_type": "stream",
     "text": [
      "(19500, 14783)\n",
      "(19500,)\n"
     ]
    }
   ],
   "source": [
    "print(X_over.shape)\n",
    "print(y_over.shape)"
   ]
  },
  {
   "cell_type": "code",
   "execution_count": 25,
   "metadata": {
    "colab": {
     "base_uri": "https://localhost:8080/"
    },
    "id": "QbrJ3WGiyPp3",
    "outputId": "8b70e546-d9b8-4489-fc65-2dda3d80089e"
   },
   "outputs": [
    {
     "name": "stdout",
     "output_type": "stream",
     "text": [
      "[[   0    1]\n",
      " [9750 9750]]\n"
     ]
    }
   ],
   "source": [
    "unique_elements, counts_elements = np.unique(y_over, return_counts=True)\n",
    "print(np.asarray((unique_elements, counts_elements)))"
   ]
  },
  {
   "cell_type": "code",
   "execution_count": 26,
   "metadata": {
    "id": "cEthYYxSJNiq"
   },
   "outputs": [],
   "source": [
    "def getStatsFromModel(model):\n",
    "  print(classification_report(y_test, y_pred))\n",
    "  disp = RocCurveDisplay.from_estimator(model, X_test, y_test)\n",
    "  disp.ax_.set_title('2-class Precision-Recall curve: '\n",
    "                   'AP={0:0.2f}')\n",
    "  \n",
    "  logit_roc_auc = roc_auc_score(y_test, model.predict(X_test))\n",
    "  fpr, tpr, thresholds = roc_curve(y_test, model.predict_proba(X_test)[:,1])\n",
    "  plt.figure()\n",
    "  plt.plot(fpr, tpr, label='(area = %0.2f)' % logit_roc_auc)\n",
    "  plt.plot([0, 1], [0, 1],'r--')\n",
    "  plt.xlim([0.0, 1.0])\n",
    "  plt.ylim([0.0, 1.05])\n",
    "  plt.xlabel('False Positive Rate')\n",
    "  plt.ylabel('True Positive Rate')\n",
    "  plt.title('Receiver operating characteristic')\n",
    "  plt.legend(loc=\"lower right\")\n",
    "  plt.savefig('Log_ROC')\n",
    "  plt.show()"
   ]
  },
  {
   "cell_type": "code",
   "execution_count": 27,
   "metadata": {
    "id": "aTKoelrF8AWd"
   },
   "outputs": [],
   "source": [
    "from sklearn.metrics import RocCurveDisplay"
   ]
  },
  {
   "cell_type": "code",
   "execution_count": 28,
   "metadata": {
    "colab": {
     "base_uri": "https://localhost:8080/",
     "height": 799
    },
    "id": "4NfNEOO07efX",
    "outputId": "9687fa21-b643-4988-cf9a-1d0a0d6b74d1"
   },
   "outputs": [
    {
     "name": "stdout",
     "output_type": "stream",
     "text": [
      "Score: 0.6163459135216196\n",
      "Confusion Matrix: \n",
      " [[ 925 1504]\n",
      " [  31 1541]]\n",
      "              precision    recall  f1-score   support\n",
      "\n",
      "           0       0.97      0.38      0.55      2429\n",
      "           1       0.51      0.98      0.67      1572\n",
      "\n",
      "    accuracy                           0.62      4001\n",
      "   macro avg       0.74      0.68      0.61      4001\n",
      "weighted avg       0.79      0.62      0.59      4001\n",
      "\n"
     ]
    },
    {
     "data": {
      "image/png": "[encoded data removed]",
      "text/plain": [
       "<Figure size 640x480 with 1 Axes>"
      ]
     },
     "metadata": {},
     "output_type": "display_data"
    },
    {
     "data": {
      "image/png": "[encoded data removed]",
      "text/plain": [
       "<Figure size 640x480 with 1 Axes>"
      ]
     },
     "metadata": {},
     "output_type": "display_data"
    }
   ],
   "source": [
    "gnb = GaussianNB()\n",
    "gnbmodel = gnb.fit(X_over, y_over)\n",
    "y_pred = gnbmodel.predict(X_test)\n",
    "print (\"Score:\", gnbmodel.score(X_test, y_test))\n",
    "print(\"Confusion Matrix: \\n\", confusion_matrix(y_test, y_pred))\n",
    "getStatsFromModel(gnb)"
   ]
  },
  {
   "cell_type": "code",
   "execution_count": 29,
   "metadata": {
    "colab": {
     "base_uri": "https://localhost:8080/",
     "height": 799
    },
    "id": "S4B2JeZD8POe",
    "outputId": "e5b8c954-d18a-46a5-cedd-5478994a2552"
   },
   "outputs": [
    {
     "name": "stdout",
     "output_type": "stream",
     "text": [
      "Accuracy:  0.8042989252686829\n",
      "Confusion Matrix: \n",
      " [[1909  520]\n",
      " [ 263 1309]]\n",
      "              precision    recall  f1-score   support\n",
      "\n",
      "           0       0.88      0.79      0.83      2429\n",
      "           1       0.72      0.83      0.77      1572\n",
      "\n",
      "    accuracy                           0.80      4001\n",
      "   macro avg       0.80      0.81      0.80      4001\n",
      "weighted avg       0.81      0.80      0.81      4001\n",
      "\n"
     ]
    },
    {
     "data": {
      "image/png": "[encoded data removed]",
      "text/plain": [
       "<Figure size 640x480 with 1 Axes>"
      ]
     },
     "metadata": {},
     "output_type": "display_data"
    },
    {
     "data": {
      "image/png": "[encoded data removed]",
      "text/plain": [
       "<Figure size 640x480 with 1 Axes>"
      ]
     },
     "metadata": {},
     "output_type": "display_data"
    }
   ],
   "source": [
    "lgr = LogisticRegression()\n",
    "lgr.fit(X_over, y_over)\n",
    "y_pred = lgr.predict(X_test)\n",
    "print(\"Accuracy: \",metrics.accuracy_score(y_test, y_pred))\n",
    "print(\"Confusion Matrix: \\n\", confusion_matrix(y_test, y_pred))\n",
    "getStatsFromModel(lgr)"
   ]
  },
  {
   "cell_type": "code",
   "execution_count": 30,
   "metadata": {
    "colab": {
     "base_uri": "https://localhost:8080/",
     "height": 799
    },
    "id": "fywHEHa845Wt",
    "outputId": "5bbcaa7f-da2d-4fbe-bf2d-95734d74f7f8"
   },
   "outputs": [
    {
     "name": "stdout",
     "output_type": "stream",
     "text": [
      "Accuracy:  0.8472881779555111\n",
      "Confusion Matrix: \n",
      " [[1880  549]\n",
      " [  62 1510]]\n",
      "              precision    recall  f1-score   support\n",
      "\n",
      "           0       0.97      0.77      0.86      2429\n",
      "           1       0.73      0.96      0.83      1572\n",
      "\n",
      "    accuracy                           0.85      4001\n",
      "   macro avg       0.85      0.87      0.85      4001\n",
      "weighted avg       0.88      0.85      0.85      4001\n",
      "\n"
     ]
    },
    {
     "data": {
      "image/png": "[encoded data removed]",
      "text/plain": [
       "<Figure size 640x480 with 1 Axes>"
      ]
     },
     "metadata": {},
     "output_type": "display_data"
    },
    {
     "data": {
      "image/png": "[encoded data removed]",
      "text/plain": [
       "<Figure size 640x480 with 1 Axes>"
      ]
     },
     "metadata": {},
     "output_type": "display_data"
    }
   ],
   "source": [
    "dtc = DecisionTreeClassifier()\n",
    "dtc.fit(X_over, y_over)\n",
    "y_pred = dtc.predict(X_test)\n",
    "print(\"Accuracy: \",metrics.accuracy_score(y_test, y_pred))\n",
    "print(\"Confusion Matrix: \\n\", confusion_matrix(y_test, y_pred))\n",
    "getStatsFromModel(dtc)"
   ]
  },
  {
   "cell_type": "markdown",
   "metadata": {
    "id": "UcznCIZmH1bp"
   },
   "source": [
    "## Ensemble Methods"
   ]
  },
  {
   "cell_type": "code",
   "execution_count": 31,
   "metadata": {
    "colab": {
     "base_uri": "https://localhost:8080/",
     "height": 53
    },
    "id": "fpXSkiZd5eft",
    "outputId": "bd562bbf-4df3-4844-d112-544f73a06fb0"
   },
   "outputs": [
    {
     "data": {
      "text/plain": [
       "'#Ensemble methods from here \\nabc = AdaBoostClassifier() \\nabc.fit(X_over, y_over)\\ny_pred = abc.predict(X_test)\\nprint(\"Accuracy: \",metrics.accuracy_score(y_test, y_pred))\\nprint(\"Confusion Matrix: \\n\", confusion_matrix(y_test, y_pred))\\ngetStatsFromModel(abc)'"
      ]
     },
     "execution_count": 31,
     "metadata": {},
     "output_type": "execute_result"
    }
   ],
   "source": [
    "'''#Ensemble methods from here \n",
    "abc = AdaBoostClassifier() \n",
    "abc.fit(X_over, y_over)\n",
    "y_pred = abc.predict(X_test)\n",
    "print(\"Accuracy: \",metrics.accuracy_score(y_test, y_pred))\n",
    "print(\"Confusion Matrix: \\n\", confusion_matrix(y_test, y_pred))\n",
    "getStatsFromModel(abc)'''"
   ]
  },
  {
   "cell_type": "code",
   "execution_count": 32,
   "metadata": {
    "colab": {
     "base_uri": "https://localhost:8080/",
     "height": 53
    },
    "id": "8j2_O4GXe9LY",
    "outputId": "1e6e9bfc-318e-4df7-cbfe-d6519d0650b1"
   },
   "outputs": [
    {
     "data": {
      "text/plain": [
       "'rfc = RandomForestClassifier(verbose=True) #uses randomized decision trees\\nrfcmodel = rfc.fit(X_over, y_over)\\ny_pred = rfc.predict(X_test)\\nprint (\"Score:\", rfcmodel.score(X_test, y_test))\\nprint(\"Confusion Matrix: \\n\", confusion_matrix(y_test, y_pred))\\ngetStatsFromModel(rfc)'"
      ]
     },
     "execution_count": 32,
     "metadata": {},
     "output_type": "execute_result"
    }
   ],
   "source": [
    "'''rfc = RandomForestClassifier(verbose=True) #uses randomized decision trees\n",
    "rfcmodel = rfc.fit(X_over, y_over)\n",
    "y_pred = rfc.predict(X_test)\n",
    "print (\"Score:\", rfcmodel.score(X_test, y_test))\n",
    "print(\"Confusion Matrix: \\n\", confusion_matrix(y_test, y_pred))\n",
    "getStatsFromModel(rfc)'''"
   ]
  },
  {
   "cell_type": "code",
   "execution_count": 33,
   "metadata": {
    "colab": {
     "base_uri": "https://localhost:8080/"
    },
    "id": "w07JTQ-4SbS-",
    "outputId": "8a83cb02-f05b-46aa-b244-609d59ca9bd1"
   },
   "outputs": [
    {
     "name": "stdout",
     "output_type": "stream",
     "text": [
      "Requirement already satisfied: fastapi in c:\\users\\hemanth veeraballi\\anaconda3\\lib\\site-packages (0.95.0)\n",
      "Requirement already satisfied: pydantic!=1.7,!=1.7.1,!=1.7.2,!=1.7.3,!=1.8,!=1.8.1,<2.0.0,>=1.6.2 in c:\\users\\hemanth veeraballi\\anaconda3\\lib\\site-packages (from fastapi) (1.10.7)\n",
      "Requirement already satisfied: starlette<0.27.0,>=0.26.1 in c:\\users\\hemanth veeraballi\\anaconda3\\lib\\site-packages (from fastapi) (0.26.1)\n",
      "Requirement already satisfied: typing-extensions>=4.2.0 in c:\\users\\hemanth veeraballi\\anaconda3\\lib\\site-packages (from pydantic!=1.7,!=1.7.1,!=1.7.2,!=1.7.3,!=1.8,!=1.8.1,<2.0.0,>=1.6.2->fastapi) (4.3.0)\n",
      "Requirement already satisfied: anyio<5,>=3.4.0 in c:\\users\\hemanth veeraballi\\anaconda3\\lib\\site-packages (from starlette<0.27.0,>=0.26.1->fastapi) (3.5.0)\n",
      "Requirement already satisfied: idna>=2.8 in c:\\users\\hemanth veeraballi\\anaconda3\\lib\\site-packages (from anyio<5,>=3.4.0->starlette<0.27.0,>=0.26.1->fastapi) (3.3)\n",
      "Requirement already satisfied: sniffio>=1.1 in c:\\users\\hemanth veeraballi\\anaconda3\\lib\\site-packages (from anyio<5,>=3.4.0->starlette<0.27.0,>=0.26.1->fastapi) (1.2.0)\n",
      "Collecting colabcode\n",
      "  Using cached colabcode-0.3.0-py3-none-any.whl (5.0 kB)\n",
      "Collecting uvicorn==0.13.1\n",
      "  Using cached uvicorn-0.13.1-py3-none-any.whl (45 kB)\n",
      "Collecting nest-asyncio==1.4.3\n",
      "  Using cached nest_asyncio-1.4.3-py3-none-any.whl (5.3 kB)\n",
      "Collecting pyngrok>=5.0.0\n",
      "  Using cached pyngrok-5.2.1.tar.gz (761 kB)\n",
      "  Preparing metadata (setup.py): started\n",
      "  Preparing metadata (setup.py): finished with status 'done'\n",
      "Collecting jupyterlab==3.0.7\n",
      "  Downloading jupyterlab-3.0.7-py3-none-any.whl (8.3 MB)\n",
      "     ---------------------------------------- 8.3/8.3 MB 4.1 MB/s eta 0:00:00\n",
      "Requirement already satisfied: jupyter-core in c:\\users\\hemanth veeraballi\\anaconda3\\lib\\site-packages (from jupyterlab==3.0.7->colabcode) (4.11.1)\n",
      "Requirement already satisfied: packaging in c:\\users\\hemanth veeraballi\\anaconda3\\lib\\site-packages (from jupyterlab==3.0.7->colabcode) (21.3)\n",
      "Requirement already satisfied: jupyter-server~=1.2 in c:\\users\\hemanth veeraballi\\anaconda3\\lib\\site-packages (from jupyterlab==3.0.7->colabcode) (1.18.1)\n",
      "Requirement already satisfied: jinja2>=2.10 in c:\\users\\hemanth veeraballi\\anaconda3\\lib\\site-packages (from jupyterlab==3.0.7->colabcode) (2.11.3)\n",
      "Requirement already satisfied: jupyterlab-server~=2.0 in c:\\users\\hemanth veeraballi\\anaconda3\\lib\\site-packages (from jupyterlab==3.0.7->colabcode) (2.10.3)\n",
      "Requirement already satisfied: nbclassic~=0.2 in c:\\users\\hemanth veeraballi\\anaconda3\\lib\\site-packages (from jupyterlab==3.0.7->colabcode) (0.3.5)\n",
      "Requirement already satisfied: ipython in c:\\users\\hemanth veeraballi\\anaconda3\\lib\\site-packages (from jupyterlab==3.0.7->colabcode) (7.31.1)\n",
      "Requirement already satisfied: tornado>=6.1.0 in c:\\users\\hemanth veeraballi\\anaconda3\\lib\\site-packages (from jupyterlab==3.0.7->colabcode) (6.1)\n",
      "Collecting h11>=0.8\n",
      "  Downloading h11-0.14.0-py3-none-any.whl (58 kB)\n",
      "     ---------------------------------------- 58.3/58.3 kB 3.0 MB/s eta 0:00:00\n",
      "Collecting click==7.*\n",
      "  Downloading click-7.1.2-py2.py3-none-any.whl (82 kB)\n",
      "     ---------------------------------------- 82.8/82.8 kB 2.3 MB/s eta 0:00:00\n",
      "Requirement already satisfied: PyYAML in c:\\users\\hemanth veeraballi\\anaconda3\\lib\\site-packages (from pyngrok>=5.0.0->colabcode) (6.0)\n",
      "Requirement already satisfied: MarkupSafe>=0.23 in c:\\users\\hemanth veeraballi\\anaconda3\\lib\\site-packages (from jinja2>=2.10->jupyterlab==3.0.7->colabcode) (2.0.1)\n",
      "Requirement already satisfied: traitlets>=5.1 in c:\\users\\hemanth veeraballi\\anaconda3\\lib\\site-packages (from jupyter-server~=1.2->jupyterlab==3.0.7->colabcode) (5.1.1)\n",
      "Requirement already satisfied: anyio<4,>=3.1.0 in c:\\users\\hemanth veeraballi\\anaconda3\\lib\\site-packages (from jupyter-server~=1.2->jupyterlab==3.0.7->colabcode) (3.5.0)\n",
      "Requirement already satisfied: nbformat>=5.2.0 in c:\\users\\hemanth veeraballi\\anaconda3\\lib\\site-packages (from jupyter-server~=1.2->jupyterlab==3.0.7->colabcode) (5.5.0)\n",
      "Requirement already satisfied: jupyter-client>=6.1.12 in c:\\users\\hemanth veeraballi\\anaconda3\\lib\\site-packages (from jupyter-server~=1.2->jupyterlab==3.0.7->colabcode) (7.3.4)\n",
      "Requirement already satisfied: prometheus-client in c:\\users\\hemanth veeraballi\\anaconda3\\lib\\site-packages (from jupyter-server~=1.2->jupyterlab==3.0.7->colabcode) (0.14.1)\n",
      "Requirement already satisfied: terminado>=0.8.3 in c:\\users\\hemanth veeraballi\\anaconda3\\lib\\site-packages (from jupyter-server~=1.2->jupyterlab==3.0.7->colabcode) (0.13.1)\n",
      "Requirement already satisfied: Send2Trash in c:\\users\\hemanth veeraballi\\anaconda3\\lib\\site-packages (from jupyter-server~=1.2->jupyterlab==3.0.7->colabcode) (1.8.0)\n",
      "Requirement already satisfied: websocket-client in c:\\users\\hemanth veeraballi\\anaconda3\\lib\\site-packages (from jupyter-server~=1.2->jupyterlab==3.0.7->colabcode) (0.58.0)\n",
      "Requirement already satisfied: argon2-cffi in c:\\users\\hemanth veeraballi\\anaconda3\\lib\\site-packages (from jupyter-server~=1.2->jupyterlab==3.0.7->colabcode) (21.3.0)\n",
      "Requirement already satisfied: pyzmq>=17 in c:\\users\\hemanth veeraballi\\anaconda3\\lib\\site-packages (from jupyter-server~=1.2->jupyterlab==3.0.7->colabcode) (23.2.0)\n",
      "Requirement already satisfied: nbconvert>=6.4.4 in c:\\users\\hemanth veeraballi\\anaconda3\\lib\\site-packages (from jupyter-server~=1.2->jupyterlab==3.0.7->colabcode) (6.4.4)\n",
      "Requirement already satisfied: pywinpty in c:\\users\\hemanth veeraballi\\anaconda3\\lib\\site-packages (from jupyter-server~=1.2->jupyterlab==3.0.7->colabcode) (2.0.2)\n",
      "Requirement already satisfied: pywin32>=1.0 in c:\\users\\hemanth veeraballi\\anaconda3\\lib\\site-packages (from jupyter-core->jupyterlab==3.0.7->colabcode) (302)\n",
      "Requirement already satisfied: jsonschema>=3.0.1 in c:\\users\\hemanth veeraballi\\anaconda3\\lib\\site-packages (from jupyterlab-server~=2.0->jupyterlab==3.0.7->colabcode) (4.16.0)\n",
      "Requirement already satisfied: requests in c:\\users\\hemanth veeraballi\\anaconda3\\lib\\site-packages (from jupyterlab-server~=2.0->jupyterlab==3.0.7->colabcode) (2.28.1)\n",
      "Requirement already satisfied: json5 in c:\\users\\hemanth veeraballi\\anaconda3\\lib\\site-packages (from jupyterlab-server~=2.0->jupyterlab==3.0.7->colabcode) (0.9.6)\n",
      "Requirement already satisfied: entrypoints>=0.2.2 in c:\\users\\hemanth veeraballi\\anaconda3\\lib\\site-packages (from jupyterlab-server~=2.0->jupyterlab==3.0.7->colabcode) (0.4)\n",
      "Requirement already satisfied: babel in c:\\users\\hemanth veeraballi\\anaconda3\\lib\\site-packages (from jupyterlab-server~=2.0->jupyterlab==3.0.7->colabcode) (2.9.1)\n",
      "Requirement already satisfied: notebook<7 in c:\\users\\hemanth veeraballi\\anaconda3\\lib\\site-packages (from nbclassic~=0.2->jupyterlab==3.0.7->colabcode) (6.4.12)\n",
      "Requirement already satisfied: prompt-toolkit!=3.0.0,!=3.0.1,<3.1.0,>=2.0.0 in c:\\users\\hemanth veeraballi\\anaconda3\\lib\\site-packages (from ipython->jupyterlab==3.0.7->colabcode) (3.0.20)\n",
      "Requirement already satisfied: colorama in c:\\users\\hemanth veeraballi\\anaconda3\\lib\\site-packages (from ipython->jupyterlab==3.0.7->colabcode) (0.4.5)\n",
      "Requirement already satisfied: setuptools>=18.5 in c:\\users\\hemanth veeraballi\\anaconda3\\lib\\site-packages (from ipython->jupyterlab==3.0.7->colabcode) (63.4.1)\n",
      "Requirement already satisfied: backcall in c:\\users\\hemanth veeraballi\\anaconda3\\lib\\site-packages (from ipython->jupyterlab==3.0.7->colabcode) (0.2.0)\n",
      "Requirement already satisfied: pygments in c:\\users\\hemanth veeraballi\\anaconda3\\lib\\site-packages (from ipython->jupyterlab==3.0.7->colabcode) (2.14.0)\n",
      "Requirement already satisfied: matplotlib-inline in c:\\users\\hemanth veeraballi\\anaconda3\\lib\\site-packages (from ipython->jupyterlab==3.0.7->colabcode) (0.1.6)\n",
      "Requirement already satisfied: pickleshare in c:\\users\\hemanth veeraballi\\anaconda3\\lib\\site-packages (from ipython->jupyterlab==3.0.7->colabcode) (0.7.5)\n",
      "Requirement already satisfied: jedi>=0.16 in c:\\users\\hemanth veeraballi\\anaconda3\\lib\\site-packages (from ipython->jupyterlab==3.0.7->colabcode) (0.18.1)\n",
      "Requirement already satisfied: decorator in c:\\users\\hemanth veeraballi\\anaconda3\\lib\\site-packages (from ipython->jupyterlab==3.0.7->colabcode) (5.1.1)\n",
      "Requirement already satisfied: pyparsing!=3.0.5,>=2.0.2 in c:\\users\\hemanth veeraballi\\anaconda3\\lib\\site-packages (from packaging->jupyterlab==3.0.7->colabcode) (3.0.9)\n",
      "Requirement already satisfied: idna>=2.8 in c:\\users\\hemanth veeraballi\\anaconda3\\lib\\site-packages (from anyio<4,>=3.1.0->jupyter-server~=1.2->jupyterlab==3.0.7->colabcode) (3.3)\n",
      "Requirement already satisfied: sniffio>=1.1 in c:\\users\\hemanth veeraballi\\anaconda3\\lib\\site-packages (from anyio<4,>=3.1.0->jupyter-server~=1.2->jupyterlab==3.0.7->colabcode) (1.2.0)\n",
      "Requirement already satisfied: parso<0.9.0,>=0.8.0 in c:\\users\\hemanth veeraballi\\anaconda3\\lib\\site-packages (from jedi>=0.16->ipython->jupyterlab==3.0.7->colabcode) (0.8.3)\n",
      "Requirement already satisfied: pyrsistent!=0.17.0,!=0.17.1,!=0.17.2,>=0.14.0 in c:\\users\\hemanth veeraballi\\anaconda3\\lib\\site-packages (from jsonschema>=3.0.1->jupyterlab-server~=2.0->jupyterlab==3.0.7->colabcode) (0.18.0)\n",
      "Requirement already satisfied: attrs>=17.4.0 in c:\\users\\hemanth veeraballi\\anaconda3\\lib\\site-packages (from jsonschema>=3.0.1->jupyterlab-server~=2.0->jupyterlab==3.0.7->colabcode) (21.4.0)\n",
      "Requirement already satisfied: python-dateutil>=2.8.2 in c:\\users\\hemanth veeraballi\\anaconda3\\lib\\site-packages (from jupyter-client>=6.1.12->jupyter-server~=1.2->jupyterlab==3.0.7->colabcode) (2.8.2)\n",
      "Collecting jupyter-client>=6.1.12\n",
      "  Downloading jupyter_client-8.1.0-py3-none-any.whl (102 kB)\n",
      "     -------------------------------------- 102.9/102.9 kB 5.8 MB/s eta 0:00:00\n",
      "Requirement already satisfied: importlib-metadata>=4.8.3 in c:\\users\\hemanth veeraballi\\anaconda3\\lib\\site-packages (from jupyter-client>=6.1.12->jupyter-server~=1.2->jupyterlab==3.0.7->colabcode) (4.11.3)\n",
      "Collecting traitlets>=5.1\n",
      "  Downloading traitlets-5.9.0-py3-none-any.whl (117 kB)\n",
      "     -------------------------------------- 117.4/117.4 kB 3.3 MB/s eta 0:00:00\n",
      "Collecting jupyter-core\n",
      "  Downloading jupyter_core-5.3.0-py3-none-any.whl (93 kB)\n",
      "     ---------------------------------------- 93.2/93.2 kB 5.2 MB/s eta 0:00:00\n",
      "Collecting tornado>=6.1.0\n",
      "  Downloading tornado-6.2-cp37-abi3-win_amd64.whl (425 kB)\n",
      "     -------------------------------------- 425.3/425.3 kB 2.4 MB/s eta 0:00:00\n",
      "Requirement already satisfied: platformdirs>=2.5 in c:\\users\\hemanth veeraballi\\anaconda3\\lib\\site-packages (from jupyter-core->jupyterlab==3.0.7->colabcode) (2.5.2)\n",
      "Requirement already satisfied: defusedxml in c:\\users\\hemanth veeraballi\\anaconda3\\lib\\site-packages (from nbconvert>=6.4.4->jupyter-server~=1.2->jupyterlab==3.0.7->colabcode) (0.7.1)\n",
      "Requirement already satisfied: bleach in c:\\users\\hemanth veeraballi\\anaconda3\\lib\\site-packages (from nbconvert>=6.4.4->jupyter-server~=1.2->jupyterlab==3.0.7->colabcode) (4.1.0)\n",
      "Requirement already satisfied: mistune<2,>=0.8.1 in c:\\users\\hemanth veeraballi\\anaconda3\\lib\\site-packages (from nbconvert>=6.4.4->jupyter-server~=1.2->jupyterlab==3.0.7->colabcode) (0.8.4)\n",
      "Requirement already satisfied: beautifulsoup4 in c:\\users\\hemanth veeraballi\\anaconda3\\lib\\site-packages (from nbconvert>=6.4.4->jupyter-server~=1.2->jupyterlab==3.0.7->colabcode) (4.11.1)\n",
      "Requirement already satisfied: testpath in c:\\users\\hemanth veeraballi\\anaconda3\\lib\\site-packages (from nbconvert>=6.4.4->jupyter-server~=1.2->jupyterlab==3.0.7->colabcode) (0.6.0)\n",
      "Requirement already satisfied: jupyterlab-pygments in c:\\users\\hemanth veeraballi\\anaconda3\\lib\\site-packages (from nbconvert>=6.4.4->jupyter-server~=1.2->jupyterlab==3.0.7->colabcode) (0.1.2)\n",
      "Requirement already satisfied: nbclient<0.6.0,>=0.5.0 in c:\\users\\hemanth veeraballi\\anaconda3\\lib\\site-packages (from nbconvert>=6.4.4->jupyter-server~=1.2->jupyterlab==3.0.7->colabcode) (0.5.13)\n",
      "Requirement already satisfied: pandocfilters>=1.4.1 in c:\\users\\hemanth veeraballi\\anaconda3\\lib\\site-packages (from nbconvert>=6.4.4->jupyter-server~=1.2->jupyterlab==3.0.7->colabcode) (1.5.0)\n",
      "Requirement already satisfied: fastjsonschema in c:\\users\\hemanth veeraballi\\anaconda3\\lib\\site-packages (from nbformat>=5.2.0->jupyter-server~=1.2->jupyterlab==3.0.7->colabcode) (2.16.2)\n",
      "Requirement already satisfied: ipykernel in c:\\users\\hemanth veeraballi\\anaconda3\\lib\\site-packages (from notebook<7->nbclassic~=0.2->jupyterlab==3.0.7->colabcode) (6.15.2)\n",
      "Collecting notebook<7\n",
      "  Downloading notebook-6.5.3-py3-none-any.whl (529 kB)\n",
      "     -------------------------------------- 529.7/529.7 kB 2.4 MB/s eta 0:00:00\n",
      "Collecting nbclassic~=0.2\n",
      "  Downloading nbclassic-0.5.4-py3-none-any.whl (10.0 MB)\n",
      "     ---------------------------------------- 10.0/10.0 MB 1.6 MB/s eta 0:00:00\n",
      "Collecting notebook<7\n",
      "  Downloading notebook-6.5.2-py3-none-any.whl (439 kB)\n",
      "     -------------------------------------- 439.1/439.1 kB 1.5 MB/s eta 0:00:00\n",
      "  Downloading notebook-6.5.1-py3-none-any.whl (439 kB)\n",
      "     -------------------------------------- 439.1/439.1 kB 1.6 MB/s eta 0:00:00\n",
      "Collecting nbclassic~=0.2\n",
      "  Downloading nbclassic-0.4.5-py3-none-any.whl (9.8 MB)\n",
      "     ---------------------------------------- 9.8/9.8 MB 832.3 kB/s eta 0:00:00\n",
      "Collecting notebook<7\n",
      "  Downloading notebook-6.4.11-py3-none-any.whl (9.9 MB)\n",
      "     ---------------------------------------- 9.9/9.9 MB 594.6 kB/s eta 0:00:00\n",
      "  Downloading notebook-6.4.10-py3-none-any.whl (9.9 MB)\n",
      "     ---------------------------------------- 9.9/9.9 MB 1.1 MB/s eta 0:00:00\n",
      "  Downloading notebook-6.4.9-py3-none-any.whl (9.9 MB)\n",
      "     ---------------------------------------- 9.9/9.9 MB 856.8 kB/s eta 0:00:00\n",
      "  Downloading notebook-6.4.8-py3-none-any.whl (9.9 MB)\n",
      "     ---------------------------------------- 9.9/9.9 MB 974.1 kB/s eta 0:00:00\n",
      "  Downloading notebook-6.4.7-py3-none-any.whl (9.9 MB)\n",
      "     ---------------------------------------- 9.9/9.9 MB 965.1 kB/s eta 0:00:00\n",
      "  Downloading notebook-6.4.6-py3-none-any.whl (9.9 MB)\n",
      "     ---------------------------------------- 9.9/9.9 MB 536.7 kB/s eta 0:00:00\n",
      "  Downloading notebook-6.4.5-py3-none-any.whl (9.9 MB)\n",
      "     ---------------------------------------- 9.9/9.9 MB 1.0 MB/s eta 0:00:00\n",
      "Requirement already satisfied: ipython-genutils in c:\\users\\hemanth veeraballi\\anaconda3\\lib\\site-packages (from notebook<7->nbclassic~=0.2->jupyterlab==3.0.7->colabcode) (0.2.0)\n",
      "Requirement already satisfied: wcwidth in c:\\users\\hemanth veeraballi\\anaconda3\\lib\\site-packages (from prompt-toolkit!=3.0.0,!=3.0.1,<3.1.0,>=2.0.0->ipython->jupyterlab==3.0.7->colabcode) (0.2.5)\n",
      "Requirement already satisfied: argon2-cffi-bindings in c:\\users\\hemanth veeraballi\\anaconda3\\lib\\site-packages (from argon2-cffi->jupyter-server~=1.2->jupyterlab==3.0.7->colabcode) (21.2.0)\n",
      "Requirement already satisfied: pytz>=2015.7 in c:\\users\\hemanth veeraballi\\anaconda3\\lib\\site-packages (from babel->jupyterlab-server~=2.0->jupyterlab==3.0.7->colabcode) (2022.1)\n",
      "Requirement already satisfied: certifi>=2017.4.17 in c:\\users\\hemanth veeraballi\\anaconda3\\lib\\site-packages (from requests->jupyterlab-server~=2.0->jupyterlab==3.0.7->colabcode) (2022.9.14)\n",
      "Requirement already satisfied: charset-normalizer<3,>=2 in c:\\users\\hemanth veeraballi\\anaconda3\\lib\\site-packages (from requests->jupyterlab-server~=2.0->jupyterlab==3.0.7->colabcode) (2.0.4)\n",
      "Requirement already satisfied: urllib3<1.27,>=1.21.1 in c:\\users\\hemanth veeraballi\\anaconda3\\lib\\site-packages (from requests->jupyterlab-server~=2.0->jupyterlab==3.0.7->colabcode) (1.26.11)\n",
      "Requirement already satisfied: six in c:\\users\\hemanth veeraballi\\anaconda3\\lib\\site-packages (from websocket-client->jupyter-server~=1.2->jupyterlab==3.0.7->colabcode) (1.16.0)\n",
      "Requirement already satisfied: zipp>=0.5 in c:\\users\\hemanth veeraballi\\anaconda3\\lib\\site-packages (from importlib-metadata>=4.8.3->jupyter-client>=6.1.12->jupyter-server~=1.2->jupyterlab==3.0.7->colabcode) (3.8.0)\n",
      "Requirement already satisfied: cffi>=1.0.1 in c:\\users\\hemanth veeraballi\\anaconda3\\lib\\site-packages (from argon2-cffi-bindings->argon2-cffi->jupyter-server~=1.2->jupyterlab==3.0.7->colabcode) (1.15.1)\n",
      "Requirement already satisfied: soupsieve>1.2 in c:\\users\\hemanth veeraballi\\anaconda3\\lib\\site-packages (from beautifulsoup4->nbconvert>=6.4.4->jupyter-server~=1.2->jupyterlab==3.0.7->colabcode) (2.3.1)\n",
      "Requirement already satisfied: webencodings in c:\\users\\hemanth veeraballi\\anaconda3\\lib\\site-packages (from bleach->nbconvert>=6.4.4->jupyter-server~=1.2->jupyterlab==3.0.7->colabcode) (0.5.1)\n",
      "Requirement already satisfied: psutil in c:\\users\\hemanth veeraballi\\anaconda3\\lib\\site-packages (from ipykernel->notebook<7->nbclassic~=0.2->jupyterlab==3.0.7->colabcode) (5.9.0)\n",
      "Requirement already satisfied: debugpy>=1.0 in c:\\users\\hemanth veeraballi\\anaconda3\\lib\\site-packages (from ipykernel->notebook<7->nbclassic~=0.2->jupyterlab==3.0.7->colabcode) (1.5.1)\n",
      "Requirement already satisfied: pycparser in c:\\users\\hemanth veeraballi\\anaconda3\\lib\\site-packages (from cffi>=1.0.1->argon2-cffi-bindings->argon2-cffi->jupyter-server~=1.2->jupyterlab==3.0.7->colabcode) (2.21)\n",
      "Building wheels for collected packages: pyngrok\n",
      "  Building wheel for pyngrok (setup.py): started\n",
      "  Building wheel for pyngrok (setup.py): finished with status 'done'\n",
      "  Created wheel for pyngrok: filename=pyngrok-5.2.1-py3-none-any.whl size=19772 sha256=c8018f3c3ecbe818d2a5143558c48fdae9084d931214eeeb3f0bb8f5f287d85e\n",
      "  Stored in directory: c:\\users\\hemanth veeraballi\\appdata\\local\\pip\\cache\\wheels\\f6\\89\\59\\49d4249e00957e94813ac136a335d10ed2e09a856c5096f95c\n",
      "Successfully built pyngrok\n",
      "Installing collected packages: traitlets, tornado, pyngrok, nest-asyncio, h11, click, uvicorn, jupyter-core, jupyter-client, notebook, jupyterlab, colabcode\n",
      "  Attempting uninstall: traitlets\n",
      "    Found existing installation: traitlets 5.1.1\n",
      "    Uninstalling traitlets-5.1.1:\n",
      "      Successfully uninstalled traitlets-5.1.1\n",
      "  Attempting uninstall: tornado\n",
      "    Found existing installation: tornado 6.1\n",
      "    Uninstalling tornado-6.1:\n",
      "      Successfully uninstalled tornado-6.1\n",
      "  Attempting uninstall: nest-asyncio\n",
      "    Found existing installation: nest-asyncio 1.5.5\n",
      "    Uninstalling nest-asyncio-1.5.5:\n",
      "      Successfully uninstalled nest-asyncio-1.5.5\n",
      "  Attempting uninstall: click\n",
      "    Found existing installation: click 8.0.4\n",
      "    Uninstalling click-8.0.4:\n",
      "      Successfully uninstalled click-8.0.4\n",
      "  Attempting uninstall: jupyter-core\n",
      "    Found existing installation: jupyter_core 4.11.1\n",
      "    Uninstalling jupyter_core-4.11.1:\n",
      "      Successfully uninstalled jupyter_core-4.11.1\n",
      "  Attempting uninstall: jupyter-client\n",
      "    Found existing installation: jupyter_client 7.3.4\n",
      "    Uninstalling jupyter_client-7.3.4:\n",
      "      Successfully uninstalled jupyter_client-7.3.4\n",
      "  Attempting uninstall: notebook\n",
      "    Found existing installation: notebook 6.4.12\n",
      "    Uninstalling notebook-6.4.12:\n",
      "      Successfully uninstalled notebook-6.4.12\n",
      "  Attempting uninstall: jupyterlab\n",
      "    Found existing installation: jupyterlab 3.4.4\n",
      "    Uninstalling jupyterlab-3.4.4:\n",
      "      Successfully uninstalled jupyterlab-3.4.4\n"
     ]
    },
    {
     "name": "stderr",
     "output_type": "stream",
     "text": [
      "ERROR: pip's dependency resolver does not currently take into account all the packages that are installed. This behaviour is the source of the following dependency conflicts.\n",
      "distributed 2022.7.0 requires tornado<6.2,>=6.0.3, but you have tornado 6.2 which is incompatible.\n",
      "conda-repo-cli 1.0.20 requires clyent==1.2.1, but you have clyent 1.2.2 which is incompatible.\n",
      "conda-repo-cli 1.0.20 requires nbformat==5.4.0, but you have nbformat 5.5.0 which is incompatible.\n",
      "black 22.6.0 requires click>=8.0.0, but you have click 7.1.2 which is incompatible.\n"
     ]
    },
    {
     "name": "stdout",
     "output_type": "stream",
     "text": [
      "Successfully installed click-7.1.2 colabcode-0.3.0 h11-0.14.0 jupyter-client-8.1.0 jupyter-core-5.3.0 jupyterlab-3.0.7 nest-asyncio-1.4.3 notebook-6.4.5 pyngrok-5.2.1 tornado-6.2 traitlets-5.9.0 uvicorn-0.13.1\n"
     ]
    }
   ],
   "source": [
    "!pip install fastapi\n",
    "!pip install colabcode"
   ]
  },
  {
   "cell_type": "code",
   "execution_count": 34,
   "metadata": {
    "id": "qVjmcOexNbiU"
   },
   "outputs": [],
   "source": [
    "from fastapi import FastAPI\n",
    "from colabcode import  ColabCode\n",
    "import pickle"
   ]
  },
  {
   "cell_type": "code",
   "execution_count": 35,
   "metadata": {
    "id": "CEe55zd3TFxd"
   },
   "outputs": [],
   "source": [
    "pickle.dump(dtc,open(\"model_dtc.pkl\",\"wb\"))"
   ]
  },
  {
   "cell_type": "code",
   "execution_count": 36,
   "metadata": {
    "colab": {
     "base_uri": "https://localhost:8080/"
    },
    "id": "TuwfAEc5TF7n",
    "outputId": "95381f77-35ee-4646-a8b2-97f38dd16bec"
   },
   "outputs": [
    {
     "name": "stdout",
     "output_type": "stream",
     "text": [
      "Overwriting models.py\n"
     ]
    }
   ],
   "source": [
    "%%writefile models.py\n",
    "from pydantic import BaseModel,conlist\n",
    "from typing import LogisticRegression\n",
    "\n",
    "class Cyber(BaseModel):\n",
    "    data: List(conlist(float,min_items=4,max_items=4))"
   ]
  },
  {
   "cell_type": "code",
   "execution_count": 37,
   "metadata": {
    "colab": {
     "base_uri": "https://localhost:8080/",
     "height": 373
    },
    "id": "n1jt-lAcTGDY",
    "outputId": "67056b29-0f90-47e0-85b7-f77a568851ca"
   },
   "outputs": [
    {
     "ename": "FastAPIError",
     "evalue": "Invalid args for response field! Hint: check that 0         True\n1         True\n2         True\n3         True\n4         True\n         ...  \n19996    False\n19997    False\n19998    False\n19999    False\n20000    False\nName: annotation, Length: 20001, dtype: bool is a valid Pydantic field type. If you are using a return type annotation that is not a valid Pydantic field (e.g. Union[Response, dict, None]) you can disable generating the response model from the type annotation with the path operation decorator parameter response_model=None. Read more: https://fastapi.tiangolo.com/tutorial/response-model/",
     "output_type": "error",
     "traceback": [
      "\u001b[1;31m---------------------------------------------------------------------------\u001b[0m",
      "\u001b[1;31mFastAPIError\u001b[0m                              Traceback (most recent call last)",
      "\u001b[1;32m~\\AppData\\Local\\Temp\\ipykernel_19648\\3956066934.py\u001b[0m in \u001b[0;36m<module>\u001b[1;34m\u001b[0m\n\u001b[0;32m      9\u001b[0m   \u001b[0mmodel\u001b[0m \u001b[1;33m=\u001b[0m \u001b[0mpickle\u001b[0m\u001b[1;33m.\u001b[0m\u001b[0mload\u001b[0m\u001b[1;33m(\u001b[0m\u001b[0mopen\u001b[0m\u001b[1;33m(\u001b[0m\u001b[1;34m\"model_dtc.pkl\"\u001b[0m\u001b[1;33m,\u001b[0m\u001b[1;34m\"rb\"\u001b[0m\u001b[1;33m)\u001b[0m\u001b[1;33m)\u001b[0m\u001b[1;33m\u001b[0m\u001b[1;33m\u001b[0m\u001b[0m\n\u001b[0;32m     10\u001b[0m \u001b[1;33m@\u001b[0m\u001b[0mapp\u001b[0m\u001b[1;33m.\u001b[0m\u001b[0mpost\u001b[0m\u001b[1;33m(\u001b[0m\u001b[1;34m\"/api\"\u001b[0m\u001b[1;33m,\u001b[0m\u001b[0mtags\u001b[0m\u001b[1;33m=\u001b[0m\u001b[1;33m[\u001b[0m\u001b[1;34m\"prediction\"\u001b[0m\u001b[1;33m]\u001b[0m\u001b[1;33m)\u001b[0m\u001b[1;33m\u001b[0m\u001b[1;33m\u001b[0m\u001b[0m\n\u001b[1;32m---> 11\u001b[1;33m \u001b[1;32masync\u001b[0m \u001b[1;32mdef\u001b[0m \u001b[0mget_predictions\u001b[0m\u001b[1;33m(\u001b[0m\u001b[0mdata\u001b[0m\u001b[1;33m:\u001b[0m\u001b[1;33m(\u001b[0m\u001b[0mdf\u001b[0m\u001b[1;33m[\u001b[0m\u001b[1;34m'annotation'\u001b[0m\u001b[1;33m]\u001b[0m \u001b[1;33m<\u001b[0m \u001b[1;33m-\u001b[0m\u001b[1;36m0.25\u001b[0m\u001b[1;33m)\u001b[0m \u001b[1;33m|\u001b[0m \u001b[1;33m(\u001b[0m\u001b[0mdf\u001b[0m\u001b[1;33m[\u001b[0m\u001b[1;34m'annotation'\u001b[0m\u001b[1;33m]\u001b[0m \u001b[1;33m>\u001b[0m \u001b[1;36m0.25\u001b[0m\u001b[1;33m)\u001b[0m\u001b[1;33m)\u001b[0m\u001b[1;33m:\u001b[0m\u001b[1;33m\u001b[0m\u001b[1;33m\u001b[0m\u001b[0m\n\u001b[0m\u001b[0;32m     12\u001b[0m   \u001b[1;32mtry\u001b[0m\u001b[1;33m:\u001b[0m\u001b[1;33m\u001b[0m\u001b[1;33m\u001b[0m\u001b[0m\n\u001b[0;32m     13\u001b[0m     \u001b[0mdata\u001b[0m \u001b[1;33m=\u001b[0m \u001b[0mdict\u001b[0m\u001b[1;33m(\u001b[0m\u001b[0mdata\u001b[0m\u001b[1;33m)\u001b[0m\u001b[1;33m[\u001b[0m\u001b[1;34m'content'\u001b[0m\u001b[1;33m]\u001b[0m\u001b[1;33m\u001b[0m\u001b[1;33m\u001b[0m\u001b[0m\n",
      "\u001b[1;32m~\\anaconda3\\lib\\site-packages\\fastapi\\routing.py\u001b[0m in \u001b[0;36mdecorator\u001b[1;34m(func)\u001b[0m\n\u001b[0;32m    659\u001b[0m     ) -> Callable[[DecoratedCallable], DecoratedCallable]:\n\u001b[0;32m    660\u001b[0m         \u001b[1;32mdef\u001b[0m \u001b[0mdecorator\u001b[0m\u001b[1;33m(\u001b[0m\u001b[0mfunc\u001b[0m\u001b[1;33m:\u001b[0m \u001b[0mDecoratedCallable\u001b[0m\u001b[1;33m)\u001b[0m \u001b[1;33m->\u001b[0m \u001b[0mDecoratedCallable\u001b[0m\u001b[1;33m:\u001b[0m\u001b[1;33m\u001b[0m\u001b[1;33m\u001b[0m\u001b[0m\n\u001b[1;32m--> 661\u001b[1;33m             self.add_api_route(\n\u001b[0m\u001b[0;32m    662\u001b[0m                 \u001b[0mpath\u001b[0m\u001b[1;33m,\u001b[0m\u001b[1;33m\u001b[0m\u001b[1;33m\u001b[0m\u001b[0m\n\u001b[0;32m    663\u001b[0m                 \u001b[0mfunc\u001b[0m\u001b[1;33m,\u001b[0m\u001b[1;33m\u001b[0m\u001b[1;33m\u001b[0m\u001b[0m\n",
      "\u001b[1;32m~\\anaconda3\\lib\\site-packages\\fastapi\\routing.py\u001b[0m in \u001b[0;36madd_api_route\u001b[1;34m(self, path, endpoint, response_model, status_code, tags, dependencies, summary, description, response_description, responses, deprecated, methods, operation_id, response_model_include, response_model_exclude, response_model_by_alias, response_model_exclude_unset, response_model_exclude_defaults, response_model_exclude_none, include_in_schema, response_class, name, route_class_override, callbacks, openapi_extra, generate_unique_id_function)\u001b[0m\n\u001b[0;32m    598\u001b[0m             \u001b[0mgenerate_unique_id_function\u001b[0m\u001b[1;33m,\u001b[0m \u001b[0mself\u001b[0m\u001b[1;33m.\u001b[0m\u001b[0mgenerate_unique_id_function\u001b[0m\u001b[1;33m\u001b[0m\u001b[1;33m\u001b[0m\u001b[0m\n\u001b[0;32m    599\u001b[0m         )\n\u001b[1;32m--> 600\u001b[1;33m         route = route_class(\n\u001b[0m\u001b[0;32m    601\u001b[0m             \u001b[0mself\u001b[0m\u001b[1;33m.\u001b[0m\u001b[0mprefix\u001b[0m \u001b[1;33m+\u001b[0m \u001b[0mpath\u001b[0m\u001b[1;33m,\u001b[0m\u001b[1;33m\u001b[0m\u001b[1;33m\u001b[0m\u001b[0m\n\u001b[0;32m    602\u001b[0m             \u001b[0mendpoint\u001b[0m\u001b[1;33m=\u001b[0m\u001b[0mendpoint\u001b[0m\u001b[1;33m,\u001b[0m\u001b[1;33m\u001b[0m\u001b[1;33m\u001b[0m\u001b[0m\n",
      "\u001b[1;32m~\\anaconda3\\lib\\site-packages\\fastapi\\routing.py\u001b[0m in \u001b[0;36m__init__\u001b[1;34m(self, path, endpoint, response_model, status_code, tags, dependencies, summary, description, response_description, responses, deprecated, name, methods, operation_id, response_model_include, response_model_exclude, response_model_by_alias, response_model_exclude_unset, response_model_exclude_defaults, response_model_exclude_none, include_in_schema, response_class, dependency_overrides_provider, callbacks, openapi_extra, generate_unique_id_function)\u001b[0m\n\u001b[0;32m    444\u001b[0m \u001b[1;33m\u001b[0m\u001b[0m\n\u001b[0;32m    445\u001b[0m         \u001b[1;32massert\u001b[0m \u001b[0mcallable\u001b[0m\u001b[1;33m(\u001b[0m\u001b[0mendpoint\u001b[0m\u001b[1;33m)\u001b[0m\u001b[1;33m,\u001b[0m \u001b[1;34m\"An endpoint must be a callable\"\u001b[0m\u001b[1;33m\u001b[0m\u001b[1;33m\u001b[0m\u001b[0m\n\u001b[1;32m--> 446\u001b[1;33m         \u001b[0mself\u001b[0m\u001b[1;33m.\u001b[0m\u001b[0mdependant\u001b[0m \u001b[1;33m=\u001b[0m \u001b[0mget_dependant\u001b[0m\u001b[1;33m(\u001b[0m\u001b[0mpath\u001b[0m\u001b[1;33m=\u001b[0m\u001b[0mself\u001b[0m\u001b[1;33m.\u001b[0m\u001b[0mpath_format\u001b[0m\u001b[1;33m,\u001b[0m \u001b[0mcall\u001b[0m\u001b[1;33m=\u001b[0m\u001b[0mself\u001b[0m\u001b[1;33m.\u001b[0m\u001b[0mendpoint\u001b[0m\u001b[1;33m)\u001b[0m\u001b[1;33m\u001b[0m\u001b[1;33m\u001b[0m\u001b[0m\n\u001b[0m\u001b[0;32m    447\u001b[0m         \u001b[1;32mfor\u001b[0m \u001b[0mdepends\u001b[0m \u001b[1;32min\u001b[0m \u001b[0mself\u001b[0m\u001b[1;33m.\u001b[0m\u001b[0mdependencies\u001b[0m\u001b[1;33m[\u001b[0m\u001b[1;33m:\u001b[0m\u001b[1;33m:\u001b[0m\u001b[1;33m-\u001b[0m\u001b[1;36m1\u001b[0m\u001b[1;33m]\u001b[0m\u001b[1;33m:\u001b[0m\u001b[1;33m\u001b[0m\u001b[1;33m\u001b[0m\u001b[0m\n\u001b[0;32m    448\u001b[0m             self.dependant.dependencies.insert(\n",
      "\u001b[1;32m~\\anaconda3\\lib\\site-packages\\fastapi\\dependencies\\utils.py\u001b[0m in \u001b[0;36mget_dependant\u001b[1;34m(path, call, name, security_scopes, use_cache)\u001b[0m\n\u001b[0;32m    301\u001b[0m     \u001b[1;32mfor\u001b[0m \u001b[0mparam_name\u001b[0m\u001b[1;33m,\u001b[0m \u001b[0mparam\u001b[0m \u001b[1;32min\u001b[0m \u001b[0msignature_params\u001b[0m\u001b[1;33m.\u001b[0m\u001b[0mitems\u001b[0m\u001b[1;33m(\u001b[0m\u001b[1;33m)\u001b[0m\u001b[1;33m:\u001b[0m\u001b[1;33m\u001b[0m\u001b[1;33m\u001b[0m\u001b[0m\n\u001b[0;32m    302\u001b[0m         \u001b[0mis_path_param\u001b[0m \u001b[1;33m=\u001b[0m \u001b[0mparam_name\u001b[0m \u001b[1;32min\u001b[0m \u001b[0mpath_param_names\u001b[0m\u001b[1;33m\u001b[0m\u001b[1;33m\u001b[0m\u001b[0m\n\u001b[1;32m--> 303\u001b[1;33m         type_annotation, depends, param_field = analyze_param(\n\u001b[0m\u001b[0;32m    304\u001b[0m             \u001b[0mparam_name\u001b[0m\u001b[1;33m=\u001b[0m\u001b[0mparam_name\u001b[0m\u001b[1;33m,\u001b[0m\u001b[1;33m\u001b[0m\u001b[1;33m\u001b[0m\u001b[0m\n\u001b[0;32m    305\u001b[0m             \u001b[0mannotation\u001b[0m\u001b[1;33m=\u001b[0m\u001b[0mparam\u001b[0m\u001b[1;33m.\u001b[0m\u001b[0mannotation\u001b[0m\u001b[1;33m,\u001b[0m\u001b[1;33m\u001b[0m\u001b[1;33m\u001b[0m\u001b[0m\n",
      "\u001b[1;32m~\\anaconda3\\lib\\site-packages\\fastapi\\dependencies\\utils.py\u001b[0m in \u001b[0;36manalyze_param\u001b[1;34m(param_name, annotation, value, is_path_param)\u001b[0m\n\u001b[0;32m    459\u001b[0m         \u001b[1;32melse\u001b[0m\u001b[1;33m:\u001b[0m\u001b[1;33m\u001b[0m\u001b[1;33m\u001b[0m\u001b[0m\n\u001b[0;32m    460\u001b[0m             \u001b[0malias\u001b[0m \u001b[1;33m=\u001b[0m \u001b[0mfield_info\u001b[0m\u001b[1;33m.\u001b[0m\u001b[0malias\u001b[0m \u001b[1;32mor\u001b[0m \u001b[0mparam_name\u001b[0m\u001b[1;33m\u001b[0m\u001b[1;33m\u001b[0m\u001b[0m\n\u001b[1;32m--> 461\u001b[1;33m         field = create_response_field(\n\u001b[0m\u001b[0;32m    462\u001b[0m             \u001b[0mname\u001b[0m\u001b[1;33m=\u001b[0m\u001b[0mparam_name\u001b[0m\u001b[1;33m,\u001b[0m\u001b[1;33m\u001b[0m\u001b[1;33m\u001b[0m\u001b[0m\n\u001b[0;32m    463\u001b[0m             \u001b[0mtype_\u001b[0m\u001b[1;33m=\u001b[0m\u001b[0mannotation\u001b[0m\u001b[1;33m,\u001b[0m\u001b[1;33m\u001b[0m\u001b[1;33m\u001b[0m\u001b[0m\n",
      "\u001b[1;32m~\\anaconda3\\lib\\site-packages\\fastapi\\utils.py\u001b[0m in \u001b[0;36mcreate_response_field\u001b[1;34m(name, type_, class_validators, default, required, model_config, field_info, alias)\u001b[0m\n\u001b[0;32m     85\u001b[0m         )\n\u001b[0;32m     86\u001b[0m     \u001b[1;32mexcept\u001b[0m \u001b[0mRuntimeError\u001b[0m\u001b[1;33m:\u001b[0m\u001b[1;33m\u001b[0m\u001b[1;33m\u001b[0m\u001b[0m\n\u001b[1;32m---> 87\u001b[1;33m         raise fastapi.exceptions.FastAPIError(\n\u001b[0m\u001b[0;32m     88\u001b[0m             \u001b[1;34m\"Invalid args for response field! Hint: \"\u001b[0m\u001b[1;33m\u001b[0m\u001b[1;33m\u001b[0m\u001b[0m\n\u001b[0;32m     89\u001b[0m             \u001b[1;34mf\"check that {type_} is a valid Pydantic field type. \"\u001b[0m\u001b[1;33m\u001b[0m\u001b[1;33m\u001b[0m\u001b[0m\n",
      "\u001b[1;31mFastAPIError\u001b[0m: Invalid args for response field! Hint: check that 0         True\n1         True\n2         True\n3         True\n4         True\n         ...  \n19996    False\n19997    False\n19998    False\n19999    False\n20000    False\nName: annotation, Length: 20001, dtype: bool is a valid Pydantic field type. If you are using a return type annotation that is not a valid Pydantic field (e.g. Union[Response, dict, None]) you can disable generating the response model from the type annotation with the path operation decorator parameter response_model=None. Read more: https://fastapi.tiangolo.com/tutorial/response-model/"
     ]
    }
   ],
   "source": [
    "from tkinter.constants import E\n",
    "import logging\n",
    "from fastapi import FastAPI\n",
    "app = FastAPI(title=\"ML\",description=\"with\")\n",
    "dtc = None\n",
    "@app.on_event(\"startup\")\n",
    "def load_model():\n",
    "  global model\n",
    "  model = pickle.load(open(\"model_dtc.pkl\",\"rb\"))\n",
    "@app.post(\"/api\",tags=[\"prediction\"])\n",
    "async def get_predictions(data:(df['annotation'] < -0.25) | (df['annotation'] > 0.25)):\n",
    "  try:\n",
    "    data = dict(data)['content']\n",
    "    print(data)\n",
    "    cyber_types={\n",
    "        0:'no cyberbullying',\n",
    "        1:'cyberbullying text'\n",
    "    }\n",
    "    prediction = list(map(lambda x: cyber_types[x],model.predict(data).tolist()))\n",
    "    log_prob = model.predict_log_proba(data).tolist()\n",
    "    return {\"prediction\":prediction,\"log_proba\":log_prob}\n",
    "  except:\n",
    "    my_logger.error(\"Something went wrong\")\n",
    "    return {\"prediction\",\"error\"}"
   ]
  },
  {
   "cell_type": "code",
   "execution_count": null,
   "metadata": {
    "id": "L11E8upLNbts"
   },
   "outputs": [],
   "source": [
    "cc = ColabCode(port = 12000, code = False)"
   ]
  },
  {
   "cell_type": "code",
   "execution_count": null,
   "metadata": {
    "id": "Jm7lgw-0N-pe"
   },
   "outputs": [],
   "source": [
    "app = FastAPI()\n",
    "@app.get(\"/\")\n",
    "async def read_root():\n",
    "  return {'hemanth','veeraballi'}"
   ]
  },
  {
   "cell_type": "code",
   "execution_count": null,
   "metadata": {
    "id": "7XdCaU0aN-0m"
   },
   "outputs": [],
   "source": [
    "cc.run_app(app=app)"
   ]
  },
  {
   "cell_type": "code",
   "execution_count": null,
   "metadata": {
    "id": "UARRanUFOlNK"
   },
   "outputs": [],
   "source": []
  }
 ],
 "metadata": {
  "colab": {
   "provenance": []
  },
  "kernelspec": {
   "display_name": "Python 3 (ipykernel)",
   "language": "python",
   "name": "python3"
  },
  "language_info": {
   "codemirror_mode": {
    "name": "ipython",
    "version": 3
   },
   "file_extension": ".py",
   "mimetype": "text/x-python",
   "name": "python",
   "nbconvert_exporter": "python",
   "pygments_lexer": "ipython3",
   "version": "3.9.13"
  }
 },
 "nbformat": 4,
 "nbformat_minor": 1
}
