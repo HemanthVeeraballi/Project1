{
 "cells": [
  {
   "cell_type": "markdown",
   "metadata": {
    "id": "qNo-j_sZr0g7"
   },
   "source": [
    "# Importing Libraries"
   ]
  },
  {
   "cell_type": "code",
   "execution_count": 1,
   "metadata": {
    "colab": {
     "base_uri": "https://localhost:8080/"
    },
    "id": "uSmOrPlTsBeE",
    "outputId": "75ae2187-49bc-43f6-da82-8193424b03ac"
   },
   "outputs": [
    {
     "name": "stdout",
     "output_type": "stream",
     "text": [
      "Requirement already satisfied: emoji in c:\\users\\hemanth veeraballi\\anaconda3\\lib\\site-packages (2.2.0)\n",
      "Note: you may need to restart the kernel to use updated packages.\n"
     ]
    }
   ],
   "source": [
    "pip install emoji"
   ]
  },
  {
   "cell_type": "code",
   "execution_count": 2,
   "metadata": {
    "id": "Bjaz0Tq0r0g9"
   },
   "outputs": [],
   "source": [
    "import warnings\n",
    "warnings.filterwarnings('ignore')\n",
    "import pandas as pd\n",
    "import numpy as np\n",
    "import re\n",
    "import matplotlib.pyplot as plt\n",
    "%matplotlib inline\n",
    "import seaborn as sns\n",
    "import plotly.express as px\n",
    "import emoji\n",
    "import string\n",
    "import nltk\n",
    "from PIL import Image\n",
    "from collections import Counter\n",
    "from wordcloud import WordCloud, ImageColorGenerator, STOPWORDS\n",
    "from nltk.tokenize import word_tokenize\n",
    "from nltk.corpus import stopwords\n",
    "from nltk.stem.porter import PorterStemmer\n",
    "from nltk.stem.snowball import SnowballStemmer\n",
    "from nltk.stem import WordNetLemmatizer\n",
    "from sklearn.feature_extraction.text import CountVectorizer\n",
    "from sklearn.feature_extraction.text import TfidfVectorizer\n",
    "from sklearn.model_selection import train_test_split\n",
    "from sklearn.model_selection import cross_val_score\n",
    "from sklearn.metrics import accuracy_score, f1_score, confusion_matrix, classification_report\n",
    "from sklearn.model_selection import GridSearchCV\n",
    "from sklearn.model_selection import RandomizedSearchCV\n",
    "from sklearn.linear_model import LogisticRegression\n",
    "from sklearn.ensemble import RandomForestClassifier\n",
    "from sklearn.ensemble import AdaBoostClassifier\n",
    "from sklearn.svm import SVC,LinearSVC\n",
    "from sklearn.naive_bayes import MultinomialNB\n",
    "from sklearn.tree import DecisionTreeClassifier\n",
    "from sklearn.pipeline import Pipeline\n",
    "import pickle"
   ]
  },
  {
   "cell_type": "code",
   "execution_count": null,
   "metadata": {
    "id": "1kMZAoO8sAPa"
   },
   "outputs": [],
   "source": []
  },
  {
   "cell_type": "markdown",
   "metadata": {
    "id": "mYbQAt8zr0g-"
   },
   "source": [
    "# Getting data"
   ]
  },
  {
   "cell_type": "code",
   "execution_count": 3,
   "metadata": {
    "id": "unJifFORr0g-"
   },
   "outputs": [
    {
     "ename": "FileNotFoundError",
     "evalue": "[Errno 2] No such file or directory: '/content/cyberbullying_tweets.csv'",
     "output_type": "error",
     "traceback": [
      "\u001b[1;31m---------------------------------------------------------------------------\u001b[0m",
      "\u001b[1;31mFileNotFoundError\u001b[0m                         Traceback (most recent call last)",
      "\u001b[1;32m~\\AppData\\Local\\Temp\\ipykernel_11544\\2448134369.py\u001b[0m in \u001b[0;36m<module>\u001b[1;34m\u001b[0m\n\u001b[1;32m----> 1\u001b[1;33m \u001b[0mdata\u001b[0m \u001b[1;33m=\u001b[0m \u001b[0mpd\u001b[0m\u001b[1;33m.\u001b[0m\u001b[0mread_csv\u001b[0m\u001b[1;33m(\u001b[0m\u001b[1;34m'/content/cyberbullying_tweets.csv'\u001b[0m\u001b[1;33m)\u001b[0m\u001b[1;33m\u001b[0m\u001b[1;33m\u001b[0m\u001b[0m\n\u001b[0m",
      "\u001b[1;32m~\\anaconda3\\lib\\site-packages\\pandas\\util\\_decorators.py\u001b[0m in \u001b[0;36mwrapper\u001b[1;34m(*args, **kwargs)\u001b[0m\n\u001b[0;32m    309\u001b[0m                     \u001b[0mstacklevel\u001b[0m\u001b[1;33m=\u001b[0m\u001b[0mstacklevel\u001b[0m\u001b[1;33m,\u001b[0m\u001b[1;33m\u001b[0m\u001b[1;33m\u001b[0m\u001b[0m\n\u001b[0;32m    310\u001b[0m                 )\n\u001b[1;32m--> 311\u001b[1;33m             \u001b[1;32mreturn\u001b[0m \u001b[0mfunc\u001b[0m\u001b[1;33m(\u001b[0m\u001b[1;33m*\u001b[0m\u001b[0margs\u001b[0m\u001b[1;33m,\u001b[0m \u001b[1;33m**\u001b[0m\u001b[0mkwargs\u001b[0m\u001b[1;33m)\u001b[0m\u001b[1;33m\u001b[0m\u001b[1;33m\u001b[0m\u001b[0m\n\u001b[0m\u001b[0;32m    312\u001b[0m \u001b[1;33m\u001b[0m\u001b[0m\n\u001b[0;32m    313\u001b[0m         \u001b[1;32mreturn\u001b[0m \u001b[0mwrapper\u001b[0m\u001b[1;33m\u001b[0m\u001b[1;33m\u001b[0m\u001b[0m\n",
      "\u001b[1;32m~\\anaconda3\\lib\\site-packages\\pandas\\io\\parsers\\readers.py\u001b[0m in \u001b[0;36mread_csv\u001b[1;34m(filepath_or_buffer, sep, delimiter, header, names, index_col, usecols, squeeze, prefix, mangle_dupe_cols, dtype, engine, converters, true_values, false_values, skipinitialspace, skiprows, skipfooter, nrows, na_values, keep_default_na, na_filter, verbose, skip_blank_lines, parse_dates, infer_datetime_format, keep_date_col, date_parser, dayfirst, cache_dates, iterator, chunksize, compression, thousands, decimal, lineterminator, quotechar, quoting, doublequote, escapechar, comment, encoding, encoding_errors, dialect, error_bad_lines, warn_bad_lines, on_bad_lines, delim_whitespace, low_memory, memory_map, float_precision, storage_options)\u001b[0m\n\u001b[0;32m    676\u001b[0m     \u001b[0mkwds\u001b[0m\u001b[1;33m.\u001b[0m\u001b[0mupdate\u001b[0m\u001b[1;33m(\u001b[0m\u001b[0mkwds_defaults\u001b[0m\u001b[1;33m)\u001b[0m\u001b[1;33m\u001b[0m\u001b[1;33m\u001b[0m\u001b[0m\n\u001b[0;32m    677\u001b[0m \u001b[1;33m\u001b[0m\u001b[0m\n\u001b[1;32m--> 678\u001b[1;33m     \u001b[1;32mreturn\u001b[0m \u001b[0m_read\u001b[0m\u001b[1;33m(\u001b[0m\u001b[0mfilepath_or_buffer\u001b[0m\u001b[1;33m,\u001b[0m \u001b[0mkwds\u001b[0m\u001b[1;33m)\u001b[0m\u001b[1;33m\u001b[0m\u001b[1;33m\u001b[0m\u001b[0m\n\u001b[0m\u001b[0;32m    679\u001b[0m \u001b[1;33m\u001b[0m\u001b[0m\n\u001b[0;32m    680\u001b[0m \u001b[1;33m\u001b[0m\u001b[0m\n",
      "\u001b[1;32m~\\anaconda3\\lib\\site-packages\\pandas\\io\\parsers\\readers.py\u001b[0m in \u001b[0;36m_read\u001b[1;34m(filepath_or_buffer, kwds)\u001b[0m\n\u001b[0;32m    573\u001b[0m \u001b[1;33m\u001b[0m\u001b[0m\n\u001b[0;32m    574\u001b[0m     \u001b[1;31m# Create the parser.\u001b[0m\u001b[1;33m\u001b[0m\u001b[1;33m\u001b[0m\u001b[0m\n\u001b[1;32m--> 575\u001b[1;33m     \u001b[0mparser\u001b[0m \u001b[1;33m=\u001b[0m \u001b[0mTextFileReader\u001b[0m\u001b[1;33m(\u001b[0m\u001b[0mfilepath_or_buffer\u001b[0m\u001b[1;33m,\u001b[0m \u001b[1;33m**\u001b[0m\u001b[0mkwds\u001b[0m\u001b[1;33m)\u001b[0m\u001b[1;33m\u001b[0m\u001b[1;33m\u001b[0m\u001b[0m\n\u001b[0m\u001b[0;32m    576\u001b[0m \u001b[1;33m\u001b[0m\u001b[0m\n\u001b[0;32m    577\u001b[0m     \u001b[1;32mif\u001b[0m \u001b[0mchunksize\u001b[0m \u001b[1;32mor\u001b[0m \u001b[0miterator\u001b[0m\u001b[1;33m:\u001b[0m\u001b[1;33m\u001b[0m\u001b[1;33m\u001b[0m\u001b[0m\n",
      "\u001b[1;32m~\\anaconda3\\lib\\site-packages\\pandas\\io\\parsers\\readers.py\u001b[0m in \u001b[0;36m__init__\u001b[1;34m(self, f, engine, **kwds)\u001b[0m\n\u001b[0;32m    930\u001b[0m \u001b[1;33m\u001b[0m\u001b[0m\n\u001b[0;32m    931\u001b[0m         \u001b[0mself\u001b[0m\u001b[1;33m.\u001b[0m\u001b[0mhandles\u001b[0m\u001b[1;33m:\u001b[0m \u001b[0mIOHandles\u001b[0m \u001b[1;33m|\u001b[0m \u001b[1;32mNone\u001b[0m \u001b[1;33m=\u001b[0m \u001b[1;32mNone\u001b[0m\u001b[1;33m\u001b[0m\u001b[1;33m\u001b[0m\u001b[0m\n\u001b[1;32m--> 932\u001b[1;33m         \u001b[0mself\u001b[0m\u001b[1;33m.\u001b[0m\u001b[0m_engine\u001b[0m \u001b[1;33m=\u001b[0m \u001b[0mself\u001b[0m\u001b[1;33m.\u001b[0m\u001b[0m_make_engine\u001b[0m\u001b[1;33m(\u001b[0m\u001b[0mf\u001b[0m\u001b[1;33m,\u001b[0m \u001b[0mself\u001b[0m\u001b[1;33m.\u001b[0m\u001b[0mengine\u001b[0m\u001b[1;33m)\u001b[0m\u001b[1;33m\u001b[0m\u001b[1;33m\u001b[0m\u001b[0m\n\u001b[0m\u001b[0;32m    933\u001b[0m \u001b[1;33m\u001b[0m\u001b[0m\n\u001b[0;32m    934\u001b[0m     \u001b[1;32mdef\u001b[0m \u001b[0mclose\u001b[0m\u001b[1;33m(\u001b[0m\u001b[0mself\u001b[0m\u001b[1;33m)\u001b[0m\u001b[1;33m:\u001b[0m\u001b[1;33m\u001b[0m\u001b[1;33m\u001b[0m\u001b[0m\n",
      "\u001b[1;32m~\\anaconda3\\lib\\site-packages\\pandas\\io\\parsers\\readers.py\u001b[0m in \u001b[0;36m_make_engine\u001b[1;34m(self, f, engine)\u001b[0m\n\u001b[0;32m   1214\u001b[0m             \u001b[1;31m# \"Union[str, PathLike[str], ReadCsvBuffer[bytes], ReadCsvBuffer[str]]\"\u001b[0m\u001b[1;33m\u001b[0m\u001b[1;33m\u001b[0m\u001b[0m\n\u001b[0;32m   1215\u001b[0m             \u001b[1;31m# , \"str\", \"bool\", \"Any\", \"Any\", \"Any\", \"Any\", \"Any\"\u001b[0m\u001b[1;33m\u001b[0m\u001b[1;33m\u001b[0m\u001b[0m\n\u001b[1;32m-> 1216\u001b[1;33m             self.handles = get_handle(  # type: ignore[call-overload]\n\u001b[0m\u001b[0;32m   1217\u001b[0m                 \u001b[0mf\u001b[0m\u001b[1;33m,\u001b[0m\u001b[1;33m\u001b[0m\u001b[1;33m\u001b[0m\u001b[0m\n\u001b[0;32m   1218\u001b[0m                 \u001b[0mmode\u001b[0m\u001b[1;33m,\u001b[0m\u001b[1;33m\u001b[0m\u001b[1;33m\u001b[0m\u001b[0m\n",
      "\u001b[1;32m~\\anaconda3\\lib\\site-packages\\pandas\\io\\common.py\u001b[0m in \u001b[0;36mget_handle\u001b[1;34m(path_or_buf, mode, encoding, compression, memory_map, is_text, errors, storage_options)\u001b[0m\n\u001b[0;32m    784\u001b[0m         \u001b[1;32mif\u001b[0m \u001b[0mioargs\u001b[0m\u001b[1;33m.\u001b[0m\u001b[0mencoding\u001b[0m \u001b[1;32mand\u001b[0m \u001b[1;34m\"b\"\u001b[0m \u001b[1;32mnot\u001b[0m \u001b[1;32min\u001b[0m \u001b[0mioargs\u001b[0m\u001b[1;33m.\u001b[0m\u001b[0mmode\u001b[0m\u001b[1;33m:\u001b[0m\u001b[1;33m\u001b[0m\u001b[1;33m\u001b[0m\u001b[0m\n\u001b[0;32m    785\u001b[0m             \u001b[1;31m# Encoding\u001b[0m\u001b[1;33m\u001b[0m\u001b[1;33m\u001b[0m\u001b[0m\n\u001b[1;32m--> 786\u001b[1;33m             handle = open(\n\u001b[0m\u001b[0;32m    787\u001b[0m                 \u001b[0mhandle\u001b[0m\u001b[1;33m,\u001b[0m\u001b[1;33m\u001b[0m\u001b[1;33m\u001b[0m\u001b[0m\n\u001b[0;32m    788\u001b[0m                 \u001b[0mioargs\u001b[0m\u001b[1;33m.\u001b[0m\u001b[0mmode\u001b[0m\u001b[1;33m,\u001b[0m\u001b[1;33m\u001b[0m\u001b[1;33m\u001b[0m\u001b[0m\n",
      "\u001b[1;31mFileNotFoundError\u001b[0m: [Errno 2] No such file or directory: '/content/cyberbullying_tweets.csv'"
     ]
    }
   ],
   "source": [
    "data = pd.read_csv('/content/cyberbullying_tweets.csv')"
   ]
  },
  {
   "cell_type": "markdown",
   "metadata": {
    "id": "UgnqgYSar0g-"
   },
   "source": [
    "# Initial Review"
   ]
  },
  {
   "cell_type": "code",
   "execution_count": null,
   "metadata": {
    "id": "LXjgaoq8r0g_"
   },
   "outputs": [],
   "source": [
    "data.info()"
   ]
  },
  {
   "cell_type": "code",
   "execution_count": null,
   "metadata": {
    "colab": {
     "base_uri": "https://localhost:8080/",
     "height": 206
    },
    "id": "Iri-UfHBr0g_",
    "outputId": "2012e49c-9116-493b-f80c-f51f618b0e66"
   },
   "outputs": [],
   "source": [
    "data.head()"
   ]
  },
  {
   "cell_type": "markdown",
   "metadata": {
    "id": "tduiYww_r0hA"
   },
   "source": [
    "# Checking Missing Values"
   ]
  },
  {
   "cell_type": "code",
   "execution_count": null,
   "metadata": {
    "colab": {
     "base_uri": "https://localhost:8080/"
    },
    "id": "pqUQzIhSr0hA",
    "outputId": "eef02377-9390-4bd8-b6d7-a0bc0bbabe65"
   },
   "outputs": [],
   "source": [
    "data.isnull().sum()"
   ]
  },
  {
   "cell_type": "markdown",
   "metadata": {
    "id": "5bKPDQner0hB"
   },
   "source": [
    "## No Missing Values found!"
   ]
  },
  {
   "cell_type": "code",
   "execution_count": null,
   "metadata": {
    "colab": {
     "base_uri": "https://localhost:8080/"
    },
    "id": "TVVYwKjHr0hB",
    "outputId": "b8125bba-d150-432a-bc2e-d1f0b45991ec"
   },
   "outputs": [],
   "source": [
    "data['cyberbullying_type'].value_counts()"
   ]
  },
  {
   "cell_type": "markdown",
   "metadata": {
    "id": "t2MGylmtr0hB"
   },
   "source": [
    "## Renaming columns for better understanding"
   ]
  },
  {
   "cell_type": "code",
   "execution_count": null,
   "metadata": {
    "id": "DWbjhIMzr0hB"
   },
   "outputs": [],
   "source": [
    "data = data.rename(columns={'tweet_text': 'text', 'cyberbullying_type': 'sentiment'})"
   ]
  },
  {
   "cell_type": "code",
   "execution_count": null,
   "metadata": {
    "colab": {
     "base_uri": "https://localhost:8080/",
     "height": 206
    },
    "id": "juNN6Rhxr0hB",
    "outputId": "4d446f32-d676-47b4-e5a6-925ea1a9bbf3"
   },
   "outputs": [],
   "source": [
    "data.head()"
   ]
  },
  {
   "cell_type": "markdown",
   "metadata": {
    "id": "v3SSAIoGr0hB"
   },
   "source": [
    "### Adding Encoded column for sentiments"
   ]
  },
  {
   "cell_type": "code",
   "execution_count": null,
   "metadata": {
    "id": "f-QbD8zur0hC"
   },
   "outputs": [],
   "source": [
    "data[\"sentiment_encoded\"] = data['sentiment'].replace({\"religion\": 1, \"age\": 2, \"ethnicity\": 3, \"gender\": 4, \"other_cyberbullying\": 5,\"not_cyberbullying\": 6})"
   ]
  },
  {
   "cell_type": "code",
   "execution_count": null,
   "metadata": {
    "id": "amUZBGOLr0hC"
   },
   "outputs": [],
   "source": [
    "data.head()"
   ]
  },
  {
   "cell_type": "code",
   "execution_count": null,
   "metadata": {
    "colab": {
     "base_uri": "https://localhost:8080/"
    },
    "id": "gnQJqRBSs-ap",
    "outputId": "65c7eecb-6a25-4360-f156-db1711ec31e6"
   },
   "outputs": [],
   "source": [
    "import nltk\n",
    "nltk.download('stopwords')"
   ]
  },
  {
   "cell_type": "code",
   "execution_count": null,
   "metadata": {
    "id": "1G3jic83r0hC"
   },
   "outputs": [],
   "source": [
    "stop_words = set(stopwords.words('english'))"
   ]
  },
  {
   "cell_type": "markdown",
   "metadata": {
    "id": "-5-_lyFZr0hC"
   },
   "source": [
    "# Preprocessing of Text"
   ]
  },
  {
   "cell_type": "markdown",
   "metadata": {
    "id": "B5wAIaTHr0hC"
   },
   "source": [
    "## Function to Remove Emojis"
   ]
  },
  {
   "cell_type": "code",
   "execution_count": null,
   "metadata": {
    "id": "N899I9her0hC"
   },
   "outputs": [],
   "source": [
    "def strip_emoji(text):\n",
    "    return emoji.replace_emoji(text,replace=\"\")"
   ]
  },
  {
   "cell_type": "markdown",
   "metadata": {
    "id": "XoaAU1X2r0hC"
   },
   "source": [
    "## Fucntion to Convert text to lowercase, remove (/r, /n  characters), URLs, non-utf characters, Numbers, punctuations,stopwords"
   ]
  },
  {
   "cell_type": "code",
   "execution_count": null,
   "metadata": {
    "id": "m21VloBXr0hC"
   },
   "outputs": [],
   "source": [
    "def strip_all_entities(text): \n",
    "    text = text.replace('\\r', '').replace('\\n', ' ').lower()\n",
    "    text = re.sub(r\"(?:\\@|https?\\://)\\S+\", \"\", text)\n",
    "    text = re.sub(r'[^\\x00-\\x7f]',r'', text)\n",
    "    text = re.sub(r'(.)1+', r'1', text)\n",
    "    text = re.sub('[0-9]+', '', text)\n",
    "    stopchars= string.punctuation\n",
    "    table = str.maketrans('', '', stopchars)\n",
    "    text = text.translate(table)\n",
    "    text = [word for word in text.split() if word not in stop_words]\n",
    "    text = ' '.join(text)\n",
    "    return text"
   ]
  },
  {
   "cell_type": "markdown",
   "metadata": {
    "id": "hUw2VBDsr0hD"
   },
   "source": [
    "## Function to remove contractions"
   ]
  },
  {
   "cell_type": "code",
   "execution_count": null,
   "metadata": {
    "id": "GYo26szjr0hD"
   },
   "outputs": [],
   "source": [
    "def decontract(text):\n",
    "    text = re.sub(r\"can\\'t\", \"can not\", text)\n",
    "    text = re.sub(r\"n\\'t\", \" not\", text)\n",
    "    text = re.sub(r\"\\'re\", \" are\", text)\n",
    "    text = re.sub(r\"\\'s\", \" is\", text)\n",
    "    text = re.sub(r\"\\'d\", \" would\", text)\n",
    "    text = re.sub(r\"\\'ll\", \" will\", text)\n",
    "    text = re.sub(r\"\\'t\", \" not\", text)\n",
    "    text = re.sub(r\"\\'ve\", \" have\", text)\n",
    "    text = re.sub(r\"\\'m\", \" am\", text)\n",
    "    return text"
   ]
  },
  {
   "cell_type": "markdown",
   "metadata": {
    "id": "QhopeflNr0hD"
   },
   "source": [
    "## Function to Clean Hashtags"
   ]
  },
  {
   "cell_type": "code",
   "execution_count": null,
   "metadata": {
    "id": "RA2A9_yYr0hD"
   },
   "outputs": [],
   "source": [
    "def clean_hashtags(tweet):\n",
    "    new_tweet = \" \".join(word.strip() for word in re.split('#(?!(?:hashtag)\\b)[\\w-]+(?=(?:\\s+#[\\w-]+)*\\s*$)', tweet))\n",
    "    new_tweet2 = \" \".join(word.strip() for word in re.split('#|_', new_tweet))\n",
    "    return new_tweet2"
   ]
  },
  {
   "cell_type": "markdown",
   "metadata": {
    "id": "TtmJ1Oh3r0hD"
   },
   "source": [
    "## Function to Filter Special Characters such as $, &"
   ]
  },
  {
   "cell_type": "code",
   "execution_count": null,
   "metadata": {
    "id": "8zRVNQ4zr0hD"
   },
   "outputs": [],
   "source": [
    "def filter_chars(a):\n",
    "    sent = []\n",
    "    for word in a.split(' '):\n",
    "        if ('$' in word) | ('&' in word):\n",
    "            sent.append('')\n",
    "        else:\n",
    "            sent.append(word)\n",
    "    return ' '.join(sent)"
   ]
  },
  {
   "cell_type": "markdown",
   "metadata": {
    "id": "OV8IRdoGr0hE"
   },
   "source": [
    "## Function to remove mutiple sequence spaces"
   ]
  },
  {
   "cell_type": "code",
   "execution_count": null,
   "metadata": {
    "id": "9G4FpCaYr0hE"
   },
   "outputs": [],
   "source": [
    "def remove_mult_spaces(text):\n",
    "    return re.sub(\"\\s\\s+\" , \" \", text)\n"
   ]
  },
  {
   "cell_type": "markdown",
   "metadata": {
    "id": "jlnNeoNRr0hE"
   },
   "source": [
    "## Function to apply stemming to words"
   ]
  },
  {
   "cell_type": "code",
   "execution_count": null,
   "metadata": {
    "id": "MzRm6MLHr0hE"
   },
   "outputs": [],
   "source": [
    "def stemmer(text):\n",
    "    tokenized = nltk.word_tokenize(text)\n",
    "    ps = PorterStemmer()\n",
    "    return ' '.join([ps.stem(words) for words in tokenized])"
   ]
  },
  {
   "cell_type": "markdown",
   "metadata": {
    "id": "P2Sxt3Dpr0hE"
   },
   "source": [
    "## Function to apply lemmatization to words"
   ]
  },
  {
   "cell_type": "code",
   "execution_count": null,
   "metadata": {
    "id": "qvr54sNWr0hE"
   },
   "outputs": [],
   "source": [
    "def lemmatize(text):\n",
    "    tokenized = nltk.word_tokenize(text)\n",
    "    lm = WordNetLemmatizer()\n",
    "    return ' '.join([lm.lemmatize(words) for words in tokenized])"
   ]
  },
  {
   "cell_type": "markdown",
   "metadata": {
    "id": "MBCBn_o-r0hE"
   },
   "source": [
    "## Function to Preprocess the text by applying all above functions"
   ]
  },
  {
   "cell_type": "code",
   "execution_count": null,
   "metadata": {
    "id": "AKWtwHIyr0hF"
   },
   "outputs": [],
   "source": [
    "def preprocess(text):\n",
    "    text = strip_emoji(text)\n",
    "    text = decontract(text)\n",
    "    text = strip_all_entities(text)\n",
    "    text = clean_hashtags(text)\n",
    "    text = filter_chars(text)\n",
    "    text = remove_mult_spaces(text)\n",
    "    text = stemmer(text)\n",
    "    text = lemmatize(text)\n",
    "    return text"
   ]
  },
  {
   "cell_type": "code",
   "execution_count": null,
   "metadata": {
    "colab": {
     "base_uri": "https://localhost:8080/"
    },
    "id": "5APPoP9XtX0j",
    "outputId": "a86339ce-8de0-4771-e8b9-8bf5bb654b77"
   },
   "outputs": [],
   "source": [
    "\n",
    "import nltk\n",
    "nltk.download('punkt')\n",
    "nltk.download('wordnet')"
   ]
  },
  {
   "cell_type": "code",
   "execution_count": null,
   "metadata": {
    "colab": {
     "base_uri": "https://localhost:8080/"
    },
    "id": "Bcw31kdstn80",
    "outputId": "78ecca57-ede3-4a60-d76f-acaba58c9a21"
   },
   "outputs": [],
   "source": [
    "nltk.download('omw-1.4')"
   ]
  },
  {
   "cell_type": "code",
   "execution_count": null,
   "metadata": {
    "colab": {
     "base_uri": "https://localhost:8080/",
     "height": 206
    },
    "id": "SxF5ea4pr0hF",
    "outputId": "2f7c16cc-ca0d-459c-8110-6a4dd2cf3a6f",
    "scrolled": true
   },
   "outputs": [],
   "source": [
    "data['cleaned_text'] = data['text'].apply(preprocess)\n",
    "data.head()"
   ]
  },
  {
   "cell_type": "code",
   "execution_count": null,
   "metadata": {
    "id": "UXxfPgsrtkwY"
   },
   "outputs": [],
   "source": []
  },
  {
   "cell_type": "markdown",
   "metadata": {
    "id": "IJg488wgr0hF"
   },
   "source": [
    "## Cleaned text added"
   ]
  },
  {
   "cell_type": "markdown",
   "metadata": {
    "id": "qKVKulfHr0hF"
   },
   "source": [
    "## Dealing with Duplicates"
   ]
  },
  {
   "cell_type": "code",
   "execution_count": null,
   "metadata": {
    "colab": {
     "base_uri": "https://localhost:8080/"
    },
    "id": "8-ocL_3Ir0hF",
    "outputId": "d3e75f59-56c7-40fc-ef2c-992f4fd28651"
   },
   "outputs": [],
   "source": [
    "data[\"cleaned_text\"].duplicated().sum()"
   ]
  },
  {
   "cell_type": "code",
   "execution_count": null,
   "metadata": {
    "id": "X0DHWxFTr0hF"
   },
   "outputs": [],
   "source": [
    "data.drop_duplicates(\"cleaned_text\", inplace=True)"
   ]
  },
  {
   "cell_type": "markdown",
   "metadata": {
    "id": "qDV_5dHir0hF"
   },
   "source": [
    "# Duplicates removed"
   ]
  },
  {
   "cell_type": "markdown",
   "metadata": {
    "id": "lv3L0ntTr0hG"
   },
   "source": [
    "# Tokenization"
   ]
  },
  {
   "cell_type": "code",
   "execution_count": null,
   "metadata": {
    "colab": {
     "base_uri": "https://localhost:8080/",
     "height": 337
    },
    "id": "Ks7MvliVr0hG",
    "outputId": "e4ee5c8d-8cc6-42e0-c30c-55e688caeb64"
   },
   "outputs": [],
   "source": [
    "data['tweet_list'] = data['cleaned_text'].apply(word_tokenize)\n",
    "data.head()"
   ]
  },
  {
   "cell_type": "markdown",
   "metadata": {
    "id": "U6lrQE04r0hG"
   },
   "source": [
    "# Checking length of various tweet texts"
   ]
  },
  {
   "cell_type": "code",
   "execution_count": null,
   "metadata": {
    "id": "1qApRj0nr0hG"
   },
   "outputs": [],
   "source": [
    "text_len = []\n",
    "for text in data.tweet_list:\n",
    "    tweet_len = len(text)\n",
    "    text_len.append(tweet_len)\n",
    "data['text_len'] = text_len"
   ]
  },
  {
   "cell_type": "code",
   "execution_count": null,
   "metadata": {
    "colab": {
     "base_uri": "https://localhost:8080/",
     "height": 504
    },
    "id": "ZCxbJEe5r0hG",
    "outputId": "27f7e421-603a-4f97-f046-4d7185e5f395"
   },
   "outputs": [],
   "source": [
    "plt.figure(figsize=(15,8))\n",
    "ax = sns.countplot(x='text_len', data=data, palette='mako')\n",
    "plt.title('Count of words in tweets', fontsize=20)\n",
    "plt.yticks([])\n",
    "ax.bar_label(ax.containers[0])\n",
    "plt.ylabel('count')\n",
    "plt.xlabel('')\n",
    "plt.show()"
   ]
  },
  {
   "cell_type": "markdown",
   "metadata": {
    "id": "KaKGbtk6r0hG"
   },
   "source": [
    "# Removing text without words"
   ]
  },
  {
   "cell_type": "code",
   "execution_count": null,
   "metadata": {
    "id": "rtCBURNVr0hG"
   },
   "outputs": [],
   "source": [
    "data = data[data['text_len']!=0]"
   ]
  },
  {
   "cell_type": "code",
   "execution_count": null,
   "metadata": {
    "colab": {
     "base_uri": "https://localhost:8080/"
    },
    "id": "f1ae-tE9r0hH",
    "outputId": "4aeaebf2-6c01-4596-b471-0c245f607bb3"
   },
   "outputs": [],
   "source": [
    "data.shape"
   ]
  },
  {
   "cell_type": "markdown",
   "metadata": {
    "id": "1dYN_qaCr0hH"
   },
   "source": [
    "# Function to create WordCloud"
   ]
  },
  {
   "cell_type": "code",
   "execution_count": null,
   "metadata": {
    "id": "EreeWGlir0hH"
   },
   "outputs": [],
   "source": [
    "def plot_wordcloud(cyberbullying_type):\n",
    "    string = \"\"\n",
    "    for i in data[data.sentiment == cyberbullying_type].cleaned_text.values:\n",
    "        string = string + \" \" + i.strip()\n",
    "\n",
    "    custom_mask = np.array(Image.open('/kaggle/input/twitter-image/twitter.png'))\n",
    "    mask_colors = ImageColorGenerator(custom_mask)\n",
    "    wordcloud = WordCloud(background_color ='white',max_words=2000, max_font_size=256,\n",
    "               random_state=42, width=custom_mask.shape[1],height=custom_mask.shape[0],\n",
    "                mask = custom_mask,min_font_size = 10,color_func=mask_colors).generate(string)\n",
    " \n",
    "    # plot the WordCloud image                      \n",
    "    plt.figure(figsize = (8, 8), facecolor = None)\n",
    "    plt.imshow(wordcloud)\n",
    "    plt.axis(\"off\")\n",
    "    plt.tight_layout(pad = 0)\n",
    "    plt.title(cyberbullying_type)\n",
    "    plt.show()\n",
    "    del string"
   ]
  },
  {
   "cell_type": "markdown",
   "metadata": {
    "id": "gscDJnlSr0hH"
   },
   "source": [
    "# Splitting data based on sentiment for Data Exploration"
   ]
  },
  {
   "cell_type": "code",
   "execution_count": null,
   "metadata": {
    "id": "GQVTLJaXr0hH"
   },
   "outputs": [],
   "source": [
    "not_cyberbullying_type = data[data['sentiment']=='not_cyberbullying']\n",
    "gender_type = data[data['sentiment']=='gender']\n",
    "religion_type = data[data['sentiment']=='religion']\n",
    "other_cyberbullying_type = data[data['sentiment']=='other_cyberbullying']\n",
    "age_type = data[data['sentiment']=='age']\n",
    "ethnicity_type = data[data['sentiment']=='ethnicity']"
   ]
  },
  {
   "cell_type": "markdown",
   "metadata": {
    "id": "qvq0-LLyr0hH"
   },
   "source": [
    "# Exploratory Data Analysis"
   ]
  },
  {
   "cell_type": "markdown",
   "metadata": {
    "id": "FWwuSPDOr0hH"
   },
   "source": [
    "# Gender Based Cyberbullying"
   ]
  },
  {
   "cell_type": "code",
   "execution_count": null,
   "metadata": {
    "colab": {
     "base_uri": "https://localhost:8080/",
     "height": 676
    },
    "id": "DmhSZukkr0hI",
    "outputId": "a65df4bf-9aa4-49e3-efee-d6e5c454f2c5"
   },
   "outputs": [],
   "source": [
    "gender = Counter([item for sublist in gender_type['tweet_list'] for item in sublist])\n",
    "top20_gender = pd.DataFrame(gender.most_common(20))\n",
    "top20_gender.columns = ['Top Words','Count']\n",
    "top20_gender.style.background_gradient(cmap='Greens')"
   ]
  },
  {
   "cell_type": "code",
   "execution_count": null,
   "metadata": {
    "colab": {
     "base_uri": "https://localhost:8080/",
     "height": 530
    },
    "id": "BeAhFp8er0hI",
    "outputId": "970d4032-e54b-4445-fd1d-1ae2d03d1212"
   },
   "outputs": [],
   "source": [
    "fig = plt.figure(figsize=(15,8))\n",
    "sns.barplot(data=top20_gender, y=\"Count\", x=\"Top Words\")\n",
    "plt.title(\"Top 20 words in Gender Cyberbullying\")"
   ]
  },
  {
   "cell_type": "code",
   "execution_count": null,
   "metadata": {
    "id": "nTY_Ybr5r0hI"
   },
   "outputs": [],
   "source": []
  },
  {
   "cell_type": "markdown",
   "metadata": {
    "id": "xSO7H4vRr0hI"
   },
   "source": [
    "# Religion Based Cyberbullying"
   ]
  },
  {
   "cell_type": "code",
   "execution_count": null,
   "metadata": {
    "colab": {
     "base_uri": "https://localhost:8080/",
     "height": 676
    },
    "id": "qAQ_T4tyr0hI",
    "outputId": "046bb48e-396e-4116-9b6e-006c2fca0dde"
   },
   "outputs": [],
   "source": [
    "religion = Counter([item for sublist in religion_type['tweet_list'] for item in sublist])\n",
    "top20_religion = pd.DataFrame(religion.most_common(20))\n",
    "top20_religion.columns = ['Top Words','Count']\n",
    "top20_religion.style.background_gradient(cmap='Greens')"
   ]
  },
  {
   "cell_type": "code",
   "execution_count": null,
   "metadata": {
    "id": "ACnCYL1pr0hI"
   },
   "outputs": [],
   "source": [
    "fig = plt.figure(figsize=(15,8))\n",
    "sns.barplot(data=top20_religion, y=\"Count\", x=\"Top Words\")\n",
    "plt.title(\"Top 20 words in Religion Cyberbullying\")"
   ]
  },
  {
   "cell_type": "code",
   "execution_count": null,
   "metadata": {
    "colab": {
     "base_uri": "https://localhost:8080/",
     "height": 311
    },
    "id": "oE74N5nyr0hJ",
    "outputId": "da98cf2d-e90c-41b5-ac54-788be8ea802d"
   },
   "outputs": [],
   "source": [
    "plot_wordcloud('religion')"
   ]
  },
  {
   "cell_type": "markdown",
   "metadata": {
    "id": "Hk9i1-dkr0hJ"
   },
   "source": [
    "# Age based Cyberbullying"
   ]
  },
  {
   "cell_type": "code",
   "execution_count": null,
   "metadata": {
    "colab": {
     "base_uri": "https://localhost:8080/",
     "height": 676
    },
    "id": "lMKDJlwzr0hJ",
    "outputId": "dcf6a234-3455-4e80-bb2e-a55eab897af8"
   },
   "outputs": [],
   "source": [
    "age = Counter([item for sublist in age_type['tweet_list'] for item in sublist])\n",
    "top20_age = pd.DataFrame(age.most_common(20))\n",
    "top20_age.columns = ['Top Words','Count']\n",
    "top20_age.style.background_gradient(cmap='Greens')"
   ]
  },
  {
   "cell_type": "code",
   "execution_count": null,
   "metadata": {
    "colab": {
     "base_uri": "https://localhost:8080/",
     "height": 530
    },
    "id": "5Qm6IAttr0hJ",
    "outputId": "a6f4bd5a-8bcb-4e55-9eee-af0c58fe46e7"
   },
   "outputs": [],
   "source": [
    "fig = plt.figure(figsize=(15,8))\n",
    "sns.barplot(data=top20_age, y=\"Count\", x=\"Top Words\")\n",
    "plt.title(\"Top 20 words in Age Cyberbullying\")"
   ]
  },
  {
   "cell_type": "markdown",
   "metadata": {
    "id": "IErikuR1r0hJ"
   },
   "source": [
    "# Ethnicity based Cyberbullying"
   ]
  },
  {
   "cell_type": "code",
   "execution_count": null,
   "metadata": {
    "colab": {
     "base_uri": "https://localhost:8080/",
     "height": 676
    },
    "id": "eaMJsSoMr0hK",
    "outputId": "063b2473-c338-4498-c08c-e4ab3e6fd458"
   },
   "outputs": [],
   "source": [
    "ethnicity = Counter([item for sublist in ethnicity_type['tweet_list'] for item in sublist])\n",
    "top20_ethnicity = pd.DataFrame(ethnicity.most_common(20))\n",
    "top20_ethnicity.columns = ['Top Words','Count']\n",
    "top20_ethnicity.style.background_gradient(cmap='Greens')"
   ]
  },
  {
   "cell_type": "code",
   "execution_count": null,
   "metadata": {
    "colab": {
     "base_uri": "https://localhost:8080/",
     "height": 530
    },
    "id": "JiNAZ5fGr0hK",
    "outputId": "9d4080c8-ab69-49c7-e5b0-fbee097fc6bd"
   },
   "outputs": [],
   "source": [
    "fig = plt.figure(figsize=(15,8))\n",
    "sns.barplot(data=top20_ethnicity, y=\"Count\", x=\"Top Words\")\n",
    "plt.title(\"Top 20 words in Ethnicity Cyberbullying\")"
   ]
  },
  {
   "cell_type": "markdown",
   "metadata": {
    "id": "pdnqfRf6r0hK"
   },
   "source": [
    "# Other types of Cyberbullying"
   ]
  },
  {
   "cell_type": "code",
   "execution_count": null,
   "metadata": {
    "colab": {
     "base_uri": "https://localhost:8080/",
     "height": 676
    },
    "id": "-xRWKX9lr0hK",
    "outputId": "1e82e28f-8122-4828-ddea-be2eb3368832"
   },
   "outputs": [],
   "source": [
    "other_cyberbullying = Counter([item for sublist in other_cyberbullying_type['tweet_list'] for item in sublist])\n",
    "top20_other_cyberbullying = pd.DataFrame(other_cyberbullying.most_common(20))\n",
    "top20_other_cyberbullying.columns = ['Top Words','Count']\n",
    "top20_other_cyberbullying.style.background_gradient(cmap='Greens')"
   ]
  },
  {
   "cell_type": "code",
   "execution_count": null,
   "metadata": {
    "colab": {
     "base_uri": "https://localhost:8080/",
     "height": 530
    },
    "id": "OX7lPPNxr0hK",
    "outputId": "f1fa11b2-e717-4da2-e3d4-43dc27ecaab0"
   },
   "outputs": [],
   "source": [
    "fig = plt.figure(figsize=(15,8))\n",
    "sns.barplot(data=top20_other_cyberbullying, y=\"Count\", x=\"Top Words\")\n",
    "plt.title(\"Top 20 words in Other Cyberbullying\")"
   ]
  },
  {
   "cell_type": "markdown",
   "metadata": {
    "id": "3cy_T4RWr0hL"
   },
   "source": [
    "# Tweets without Cyberbullying"
   ]
  },
  {
   "cell_type": "code",
   "execution_count": null,
   "metadata": {
    "colab": {
     "base_uri": "https://localhost:8080/",
     "height": 676
    },
    "id": "o3weRcLor0hL",
    "outputId": "a5ace4f0-3f12-418f-cf74-eeba41e592f9"
   },
   "outputs": [],
   "source": [
    "not_cyberbullying = Counter([item for sublist in not_cyberbullying_type['tweet_list'] for item in sublist])\n",
    "top20_not_cyberbullying = pd.DataFrame(not_cyberbullying.most_common(20))\n",
    "top20_not_cyberbullying.columns = ['Top Words','Count']\n",
    "top20_not_cyberbullying.style.background_gradient(cmap='Greens')"
   ]
  },
  {
   "cell_type": "code",
   "execution_count": null,
   "metadata": {
    "colab": {
     "base_uri": "https://localhost:8080/",
     "height": 530
    },
    "id": "yy4AChTVr0hL",
    "outputId": "280b1cfd-4a76-4fae-9150-b3da32f640a1"
   },
   "outputs": [],
   "source": [
    "fig = plt.figure(figsize=(15,8))\n",
    "sns.barplot(data=top20_not_cyberbullying, y=\"Count\", x=\"Top Words\")\n",
    "plt.title(\"Top 20 words in Not Cyberbullying\")"
   ]
  },
  {
   "cell_type": "code",
   "execution_count": null,
   "metadata": {
    "colab": {
     "base_uri": "https://localhost:8080/",
     "height": 337
    },
    "id": "E6VxguBwr0hL",
    "outputId": "06aa9444-7134-4990-b360-1948fc836979"
   },
   "outputs": [],
   "source": [
    "data.head()"
   ]
  },
  {
   "cell_type": "code",
   "execution_count": null,
   "metadata": {
    "id": "vOWOxmkDr0hL"
   },
   "outputs": [],
   "source": [
    "sentiments = [\"religion\", \"age\", \"ethnicity\", \"gender\", \"other_cyberbullying\",\"not_cyberbullying\"]"
   ]
  },
  {
   "cell_type": "markdown",
   "metadata": {
    "id": "2tFLnYIcr0hL"
   },
   "source": [
    "# Splitting Data into Train and Test Sets"
   ]
  },
  {
   "cell_type": "code",
   "execution_count": null,
   "metadata": {
    "id": "0T-eWvcGr0hM"
   },
   "outputs": [],
   "source": [
    "X,Y = data['cleaned_text'],data['sentiment_encoded']"
   ]
  },
  {
   "cell_type": "code",
   "execution_count": null,
   "metadata": {
    "colab": {
     "base_uri": "https://localhost:8080/"
    },
    "id": "Ck4Wzjg4r0hM",
    "outputId": "c208f64f-e72d-4400-8c5a-87733dba49f2"
   },
   "outputs": [],
   "source": [
    "X_train, X_test, y_train, y_test = train_test_split(X, Y, test_size = 0.3, stratify =Y, random_state = 42)\n",
    "print(X_train.shape, y_train.shape, X_test.shape, y_test.shape)"
   ]
  },
  {
   "cell_type": "markdown",
   "metadata": {
    "id": "IxC70xKhr0hM"
   },
   "source": [
    "## tf-idf Vectorization"
   ]
  },
  {
   "cell_type": "code",
   "execution_count": null,
   "metadata": {
    "colab": {
     "base_uri": "https://localhost:8080/"
    },
    "id": "sphPMfTMr0hM",
    "outputId": "8e9061e5-7720-4f36-e81e-9e4361c6529c"
   },
   "outputs": [],
   "source": [
    "tf_idf = TfidfVectorizer()\n",
    "X_train_tf = tf_idf.fit_transform(X_train)\n",
    "X_test_tf = tf_idf.transform(X_test)\n",
    "print(X_train_tf.shape)\n",
    "print(X_test_tf.shape)"
   ]
  },
  {
   "cell_type": "markdown",
   "metadata": {
    "id": "CzvWBoC4r0hM"
   },
   "source": [
    "# Trying Different ML Models"
   ]
  },
  {
   "cell_type": "markdown",
   "metadata": {
    "id": "PVze3pmCr0hM"
   },
   "source": [
    "## Logistic Regression"
   ]
  },
  {
   "cell_type": "code",
   "execution_count": null,
   "metadata": {
    "id": "9fFIbxRZr0hM"
   },
   "outputs": [],
   "source": [
    "log_reg = LogisticRegression()"
   ]
  },
  {
   "cell_type": "code",
   "execution_count": null,
   "metadata": {
    "id": "5XsPEsPyr0hN"
   },
   "outputs": [],
   "source": [
    "log_cv_score = cross_val_score(log_reg,X_train_tf,y_train,cv=5,scoring='f1_macro',n_jobs=-1)"
   ]
  },
  {
   "cell_type": "code",
   "execution_count": null,
   "metadata": {
    "colab": {
     "base_uri": "https://localhost:8080/"
    },
    "id": "TwGJt6hkr0hN",
    "outputId": "5850c98e-5fe8-4cd3-bdcc-94613c847d59"
   },
   "outputs": [],
   "source": [
    "mean_log_cv = np.mean(log_cv_score)\n",
    "mean_log_cv"
   ]
  },
  {
   "cell_type": "markdown",
   "metadata": {
    "id": "dA2uny7Xr0hN"
   },
   "source": [
    "## Support Vector Classifier"
   ]
  },
  {
   "cell_type": "code",
   "execution_count": null,
   "metadata": {
    "id": "v097ldZnr0hN"
   },
   "outputs": [],
   "source": [
    "lin_svc = LinearSVC()"
   ]
  },
  {
   "cell_type": "code",
   "execution_count": null,
   "metadata": {
    "colab": {
     "base_uri": "https://localhost:8080/"
    },
    "id": "E-e6T1tEr0hN",
    "outputId": "f2489886-28ba-4f31-a18e-59e3adf9a6d9"
   },
   "outputs": [],
   "source": [
    "lin_svc_cv_score = cross_val_score(lin_svc,X_train_tf,y_train,cv=5,scoring='f1_macro',n_jobs=-1)\n",
    "mean_lin_svc_cv = np.mean(lin_svc_cv_score)\n",
    "mean_lin_svc_cv"
   ]
  },
  {
   "cell_type": "markdown",
   "metadata": {
    "id": "wKQyeib6r0hN"
   },
   "source": [
    "## Naive Bayes Classifier"
   ]
  },
  {
   "cell_type": "code",
   "execution_count": null,
   "metadata": {
    "id": "I3dWNFp7r0hN"
   },
   "outputs": [],
   "source": [
    "multiNB = MultinomialNB()"
   ]
  },
  {
   "cell_type": "code",
   "execution_count": null,
   "metadata": {
    "colab": {
     "base_uri": "https://localhost:8080/"
    },
    "id": "wApR-JlRr0hO",
    "outputId": "f6224571-732e-416a-a7b1-597f7db42850"
   },
   "outputs": [],
   "source": [
    "multiNB_cv_score = cross_val_score(multiNB,X_train_tf,y_train,cv=5,scoring='f1_macro',n_jobs=-1)\n",
    "mean_multiNB_cv = np.mean(multiNB_cv_score)\n",
    "mean_multiNB_cv"
   ]
  },
  {
   "cell_type": "markdown",
   "metadata": {
    "id": "Qcvzbim7r0hO"
   },
   "source": [
    "## Decison Tree Classifier"
   ]
  },
  {
   "cell_type": "code",
   "execution_count": null,
   "metadata": {
    "id": "ITwVUey7r0hO"
   },
   "outputs": [],
   "source": [
    "dtree = DecisionTreeClassifier()"
   ]
  },
  {
   "cell_type": "code",
   "execution_count": null,
   "metadata": {
    "colab": {
     "base_uri": "https://localhost:8080/"
    },
    "id": "Z_j2SIDXr0hO",
    "outputId": "6886a7ac-c539-4916-943a-58fddd8482e1"
   },
   "outputs": [],
   "source": [
    "dtree_cv_score = cross_val_score(dtree,X_train_tf,y_train,cv=5,scoring='f1_macro',n_jobs=-1)\n",
    "mean_dtree_cv = np.mean(dtree_cv_score)\n",
    "mean_dtree_cv"
   ]
  },
  {
   "cell_type": "markdown",
   "metadata": {
    "id": "Yyx91uS1r0hO"
   },
   "source": [
    "## RandomForest Classifier "
   ]
  },
  {
   "cell_type": "code",
   "execution_count": null,
   "metadata": {
    "id": "0t4ZmoOKr0hO"
   },
   "outputs": [],
   "source": [
    "rand_forest = RandomForestClassifier()"
   ]
  },
  {
   "cell_type": "markdown",
   "metadata": {
    "id": "7bZ2wNqFr0hO"
   },
   "source": [
    "## Adaboost Classifier"
   ]
  },
  {
   "cell_type": "code",
   "execution_count": null,
   "metadata": {
    "id": "AFLs8PIfr0hP"
   },
   "outputs": [],
   "source": [
    "adab = AdaBoostClassifier()"
   ]
  },
  {
   "cell_type": "markdown",
   "metadata": {
    "id": "M5ELK_B2r0hP"
   },
   "source": [
    "## By trying different models we can see logistic regression, svm and random forest classifier performed similarly, so among these we will go with svm model as it is more generalised and light"
   ]
  },
  {
   "cell_type": "markdown",
   "metadata": {
    "id": "Nk7hYFwQr0hP"
   },
   "source": [
    "## Fine Tuning Support Vector Classifier"
   ]
  },
  {
   "cell_type": "code",
   "execution_count": null,
   "metadata": {
    "colab": {
     "base_uri": "https://localhost:8080/",
     "height": 117
    },
    "id": "kUn3wRPJr0hP",
    "outputId": "c113746b-9d6e-497f-9b28-c36f19adc4fd"
   },
   "outputs": [],
   "source": [
    "svc1 = LinearSVC()\n",
    "param_grid = {'C':[0.0001,0.001,0.01,0.1,1,10],\n",
    "             'loss':['hinge','squared_hinge'],\n",
    "             'fit_intercept':[True,False]}\n",
    "grid_search = GridSearchCV(svc1,param_grid,cv=5,scoring='f1_macro',n_jobs=-1,verbose=0,return_train_score=True)\n",
    "grid_search.fit(X_train_tf,y_train)"
   ]
  },
  {
   "cell_type": "code",
   "execution_count": null,
   "metadata": {
    "colab": {
     "base_uri": "https://localhost:8080/",
     "height": 74
    },
    "id": "zFbRcmmAr0hP",
    "outputId": "1871f506-a03d-413d-a0ef-9e9ab1efa77d"
   },
   "outputs": [],
   "source": [
    "grid_search.best_estimator_"
   ]
  },
  {
   "cell_type": "code",
   "execution_count": null,
   "metadata": {
    "colab": {
     "base_uri": "https://localhost:8080/"
    },
    "id": "NcZ8AMFVr0hP",
    "outputId": "e65e3493-5b51-40ea-fff6-a0d67c72e876"
   },
   "outputs": [],
   "source": [
    "grid_search.best_score_"
   ]
  },
  {
   "cell_type": "markdown",
   "metadata": {
    "id": "5p_qU4uRr0hP"
   },
   "source": [
    "# Model Evaluation"
   ]
  },
  {
   "cell_type": "code",
   "execution_count": null,
   "metadata": {
    "id": "hfr6Jz3tr0hQ"
   },
   "outputs": [],
   "source": [
    "lin_svc.fit(X_train_tf,y_train)\n",
    "y_pred = lin_svc.predict(X_test_tf)"
   ]
  },
  {
   "cell_type": "code",
   "execution_count": null,
   "metadata": {
    "id": "V_dnoFgAr0hQ"
   },
   "outputs": [],
   "source": [
    "def print_confusion_matrix(confusion_matrix, class_names, figsize = (10,7), fontsize=14):\n",
    "    df_cm = pd.DataFrame(confusion_matrix, index=class_names, columns=class_names)\n",
    "    fig = plt.figure(figsize=figsize)\n",
    "    try:\n",
    "        heatmap = sns.heatmap(df_cm, annot=True, fmt=\"d\")\n",
    "    except ValueError:\n",
    "        raise ValueError(\"Confusion matrix values must be integers.\")\n",
    "    heatmap.yaxis.set_ticklabels(heatmap.yaxis.get_ticklabels(), rotation=0, ha='right', fontsize=fontsize)\n",
    "    heatmap.xaxis.set_ticklabels(heatmap.xaxis.get_ticklabels(), rotation=45, ha='right', fontsize=fontsize)\n",
    "    plt.ylabel('Truth')\n",
    "    plt.xlabel('Prediction')"
   ]
  },
  {
   "cell_type": "code",
   "execution_count": null,
   "metadata": {
    "colab": {
     "base_uri": "https://localhost:8080/",
     "height": 541
    },
    "id": "AxG4DV3_r0hQ",
    "outputId": "0a296677-2f1f-4779-fb41-748cbeda2aff"
   },
   "outputs": [],
   "source": [
    "cm = confusion_matrix(y_test,y_pred)\n",
    "print_confusion_matrix(cm,sentiments)"
   ]
  },
  {
   "cell_type": "code",
   "execution_count": null,
   "metadata": {
    "colab": {
     "base_uri": "https://localhost:8080/"
    },
    "id": "MnuqM4msr0hQ",
    "outputId": "4ba20a78-d3f3-4a98-9269-f33f9bbf6773"
   },
   "outputs": [],
   "source": [
    "print('Classification Report:\\n',classification_report(y_test, y_pred, target_names=sentiments))"
   ]
  },
  {
   "cell_type": "markdown",
   "metadata": {
    "id": "68Fb997Dr0hQ"
   },
   "source": [
    "# Saving Model "
   ]
  },
  {
   "cell_type": "code",
   "execution_count": null,
   "metadata": {
    "id": "umXhMnf3r0hQ"
   },
   "outputs": [],
   "source": [
    "#pickle.dump(tf_idf, open('vectorizer.pkl', 'wb'))\n",
    "#pickle.dump(lin_svc, open('model.pkl', 'wb'))"
   ]
  },
  {
   "cell_type": "code",
   "execution_count": null,
   "metadata": {
    "id": "O8RElYQbr0hQ"
   },
   "outputs": [],
   "source": []
  }
 ],
 "metadata": {
  "colab": {
   "provenance": []
  },
  "kernelspec": {
   "display_name": "Python 3 (ipykernel)",
   "language": "python",
   "name": "python3"
  },
  "language_info": {
   "codemirror_mode": {
    "name": "ipython",
    "version": 3
   },
   "file_extension": ".py",
   "mimetype": "text/x-python",
   "name": "python",
   "nbconvert_exporter": "python",
   "pygments_lexer": "ipython3",
   "version": "3.9.13"
  }
 },
 "nbformat": 4,
 "nbformat_minor": 1
}
